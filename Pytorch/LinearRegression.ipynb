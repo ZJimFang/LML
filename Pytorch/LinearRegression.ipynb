{
 "cells": [
  {
   "cell_type": "markdown",
   "metadata": {},
   "source": [
    "### Training process\n",
    "\n",
    "- Design model (input size, output size, forward pass)\n",
    "- Construct loss and optimizer\n",
    "- Training loop\n",
    "  - forward pass: compute prediction\n",
    "  - backward pass: gradients\n",
    "  - update weights\n"
   ]
  },
  {
   "cell_type": "markdown",
   "metadata": {},
   "source": [
    "### Import package\n"
   ]
  },
  {
   "cell_type": "code",
   "execution_count": 37,
   "metadata": {},
   "outputs": [],
   "source": [
    "import torch\n",
    "import torch.nn as nn\n",
    "import numpy as np\n",
    "from sklearn import datasets\n",
    "import matplotlib.pyplot as plt"
   ]
  },
  {
   "cell_type": "markdown",
   "metadata": {},
   "source": [
    "### Prepare data\n"
   ]
  },
  {
   "cell_type": "code",
   "execution_count": 38,
   "metadata": {},
   "outputs": [
    {
     "name": "stdout",
     "output_type": "stream",
     "text": [
      "tensor([[-0.6118],\n",
      "        [-0.2494],\n",
      "        [ 0.4885],\n",
      "        [ 0.7620],\n",
      "        [ 1.5198],\n",
      "        [ 0.3776],\n",
      "        [ 0.5129],\n",
      "        [-0.6712],\n",
      "        [-1.3965],\n",
      "        [ 0.3156],\n",
      "        [-0.6370],\n",
      "        [-0.3968],\n",
      "        [-1.1006],\n",
      "        [ 0.9009],\n",
      "        [-1.0999],\n",
      "        [ 0.8280],\n",
      "        [-0.0756],\n",
      "        [-0.3522],\n",
      "        [-0.6707],\n",
      "        [-1.0730],\n",
      "        [-0.3062],\n",
      "        [ 2.1856],\n",
      "        [ 0.8654],\n",
      "        [ 0.1983],\n",
      "        [-0.3841],\n",
      "        [-0.6837],\n",
      "        [ 0.0508],\n",
      "        [ 0.5828],\n",
      "        [ 1.2529],\n",
      "        [-0.7544],\n",
      "        [-0.3493],\n",
      "        [-0.8876],\n",
      "        [ 0.1866],\n",
      "        [ 0.8762],\n",
      "        [ 0.8390],\n",
      "        [-0.5045],\n",
      "        [-0.3439],\n",
      "        [ 1.6925],\n",
      "        [-2.3015],\n",
      "        [ 0.9311],\n",
      "        [ 2.1003],\n",
      "        [ 1.4621],\n",
      "        [-0.8452],\n",
      "        [-0.8779],\n",
      "        [-0.3224],\n",
      "        [ 0.8851],\n",
      "        [ 0.1600],\n",
      "        [ 1.1316],\n",
      "        [-0.3753],\n",
      "        [ 0.5025],\n",
      "        [-0.2089],\n",
      "        [ 0.1202],\n",
      "        [ 0.5866],\n",
      "        [ 0.3190],\n",
      "        [-0.6917],\n",
      "        [ 0.6980],\n",
      "        [ 1.1989],\n",
      "        [-0.2008],\n",
      "        [ 0.5304],\n",
      "        [ 0.7420],\n",
      "        [ 0.4101],\n",
      "        [ 0.1190],\n",
      "        [-0.7612],\n",
      "        [ 0.4235],\n",
      "        [ 0.3002],\n",
      "        [-1.1425],\n",
      "        [ 0.1852],\n",
      "        [-0.9358],\n",
      "        [-0.6200],\n",
      "        [-1.1173],\n",
      "        [-1.4441],\n",
      "        [-0.2223],\n",
      "        [ 1.6243],\n",
      "        [ 0.6172],\n",
      "        [-0.6872],\n",
      "        [ 0.0773],\n",
      "        [-0.0127],\n",
      "        [-0.6387],\n",
      "        [ 1.1338],\n",
      "        [ 1.7448],\n",
      "        [ 0.9016],\n",
      "        [-2.0601],\n",
      "        [ 0.2344],\n",
      "        [-0.1724],\n",
      "        [ 0.1218],\n",
      "        [ 1.1447],\n",
      "        [-0.1229],\n",
      "        [-0.7472],\n",
      "        [ 0.2856],\n",
      "        [-2.0222],\n",
      "        [ 0.2301],\n",
      "        [-0.2679],\n",
      "        [-0.5282],\n",
      "        [ 1.1295],\n",
      "        [ 0.1909],\n",
      "        [-0.2981],\n",
      "        [ 1.6598],\n",
      "        [ 0.0436],\n",
      "        [ 0.0422],\n",
      "        [-0.1918]])\n",
      "tensor([[-5.5539e+01],\n",
      "        [-1.0662e+01],\n",
      "        [ 2.2757e+01],\n",
      "        [ 1.0110e+02],\n",
      "        [ 1.4434e+02],\n",
      "        [ 3.3289e+01],\n",
      "        [ 3.3015e+01],\n",
      "        [-2.5887e+01],\n",
      "        [-9.9639e+01],\n",
      "        [ 2.3803e+01],\n",
      "        [-4.5589e+01],\n",
      "        [-8.3388e+00],\n",
      "        [-9.5315e+01],\n",
      "        [ 3.6407e+01],\n",
      "        [-8.7293e+01],\n",
      "        [ 6.7669e+01],\n",
      "        [-1.3687e+01],\n",
      "        [-5.5441e+01],\n",
      "        [-6.5340e+01],\n",
      "        [-5.4450e+01],\n",
      "        [-2.8835e+01],\n",
      "        [ 1.7884e+02],\n",
      "        [ 6.5084e+01],\n",
      "        [ 2.6668e+01],\n",
      "        [-1.8546e+01],\n",
      "        [-4.1499e+01],\n",
      "        [ 8.5583e-01],\n",
      "        [ 4.4562e+01],\n",
      "        [ 1.1598e+02],\n",
      "        [-6.4620e+01],\n",
      "        [-2.5931e+01],\n",
      "        [-6.0882e+01],\n",
      "        [ 1.8720e+01],\n",
      "        [ 7.5070e+01],\n",
      "        [ 1.1720e+02],\n",
      "        [-2.2698e+01],\n",
      "        [-5.6363e+01],\n",
      "        [ 1.8084e+02],\n",
      "        [-1.9257e+02],\n",
      "        [ 6.8503e+01],\n",
      "        [ 1.6552e+02],\n",
      "        [ 1.0500e+02],\n",
      "        [-7.0434e+01],\n",
      "        [-5.8769e+01],\n",
      "        [-4.1576e+01],\n",
      "        [ 7.3247e+01],\n",
      "        [ 4.0966e+01],\n",
      "        [ 8.0462e+01],\n",
      "        [-2.8794e+01],\n",
      "        [ 3.4234e+01],\n",
      "        [-4.1715e+01],\n",
      "        [ 1.4355e+01],\n",
      "        [ 7.9336e+01],\n",
      "        [ 2.7129e+01],\n",
      "        [-3.9487e+01],\n",
      "        [ 6.6805e+01],\n",
      "        [ 9.5531e+01],\n",
      "        [ 3.5610e+00],\n",
      "        [ 1.0857e-01],\n",
      "        [ 5.6495e+01],\n",
      "        [ 5.1575e+01],\n",
      "        [-2.0974e+00],\n",
      "        [-2.6656e+01],\n",
      "        [ 3.9742e+01],\n",
      "        [ 3.6101e+01],\n",
      "        [-7.5602e+01],\n",
      "        [ 1.9713e+01],\n",
      "        [-7.1601e+01],\n",
      "        [-1.9904e+01],\n",
      "        [-7.6708e+01],\n",
      "        [-1.1834e+02],\n",
      "        [-2.9825e+01],\n",
      "        [ 1.5108e+02],\n",
      "        [ 5.2923e+01],\n",
      "        [-5.9552e+01],\n",
      "        [ 3.0721e+01],\n",
      "        [-2.9355e+01],\n",
      "        [-4.4786e+01],\n",
      "        [ 1.0006e+02],\n",
      "        [ 1.5058e+02],\n",
      "        [ 1.2200e+02],\n",
      "        [-1.8186e+02],\n",
      "        [ 3.4739e+00],\n",
      "        [-2.2980e+01],\n",
      "        [ 4.5184e+01],\n",
      "        [ 9.8606e+01],\n",
      "        [-9.2779e+00],\n",
      "        [-5.2478e+01],\n",
      "        [ 3.8593e+01],\n",
      "        [-1.9997e+02],\n",
      "        [-9.5201e+00],\n",
      "        [-3.4724e+00],\n",
      "        [-3.5312e+01],\n",
      "        [ 7.5406e+01],\n",
      "        [ 1.7570e+01],\n",
      "        [-2.3960e+01],\n",
      "        [ 1.3209e+02],\n",
      "        [ 2.0608e+01],\n",
      "        [ 5.1111e+01],\n",
      "        [-2.6306e+01]])\n"
     ]
    }
   ],
   "source": [
    "# 會生成一組帶有回歸目標的資料點，這些資料點的特徵（X）和目標（Y）之間具有線性關係。\n",
    "# n_samples: 要生成的資料點數目。\n",
    "# n_features: 資料點的特徵數目。\n",
    "# noise: 加入到目標值的高斯噪音的標準差。\n",
    "# random_state: 隨機數種子，確保每次生成的資料相同。\n",
    "X_numpy, Y_numpy = datasets.make_regression(\n",
    "    n_samples=100, n_features=1, noise=20, random_state=1)\n",
    "\n",
    "x = torch.from_numpy(X_numpy.astype(np.float32))\n",
    "y = torch.from_numpy(Y_numpy.astype(np.float32))\n",
    "print(x)\n",
    "\n",
    "# 這一步是為了確保目標張量y的形狀是(資料點數目, 1)。這是因為後續可能需要與特徵張量x進行操作，而形狀相同的張量才能進行元素級操作。\n",
    "y = y.view(y.shape[0], 1)\n",
    "print(y)\n",
    "\n",
    "# n_samples表示資料點數目，n_features表示每個資料點的特徵數目。\n",
    "n_samples, n_features = x.shape"
   ]
  },
  {
   "cell_type": "markdown",
   "metadata": {},
   "source": [
    "### Model\n"
   ]
  },
  {
   "cell_type": "code",
   "execution_count": 39,
   "metadata": {},
   "outputs": [],
   "source": [
    "input_size = n_features\n",
    "output_size = 1\n",
    "model = nn.Linear(input_size, output_size)"
   ]
  },
  {
   "cell_type": "markdown",
   "metadata": {},
   "source": [
    "### Loss and optimizer\n"
   ]
  },
  {
   "cell_type": "code",
   "execution_count": 40,
   "metadata": {},
   "outputs": [],
   "source": [
    "learning_rate = 0.01\n",
    "criterion = nn.MSELoss()\n",
    "optimizer = torch.optim.SGD(model.parameters(), lr=learning_rate)"
   ]
  },
  {
   "cell_type": "markdown",
   "metadata": {},
   "source": [
    "### Training loop\n"
   ]
  },
  {
   "cell_type": "code",
   "execution_count": 41,
   "metadata": {},
   "outputs": [
    {
     "name": "stdout",
     "output_type": "stream",
     "text": [
      "epoch:10, loss = 4379.1030\n",
      "epoch:20, loss = 3268.8494\n",
      "epoch:30, loss = 2465.0325\n",
      "epoch:40, loss = 1882.4789\n",
      "epoch:50, loss = 1459.8823\n",
      "epoch:60, loss = 1153.0546\n",
      "epoch:70, loss = 930.1011\n",
      "epoch:80, loss = 767.9745\n",
      "epoch:90, loss = 649.9991\n",
      "epoch:100, loss = 564.0979\n"
     ]
    }
   ],
   "source": [
    "num_epochs = 100\n",
    "for epoch in range(num_epochs):\n",
    "    # forward pass and loss\n",
    "    y_pred = model(x)\n",
    "    loss = criterion(y_pred, y)\n",
    "\n",
    "    # backward loss\n",
    "    loss.backward()\n",
    "\n",
    "    # update\n",
    "    optimizer.step()\n",
    "\n",
    "    optimizer.zero_grad()\n",
    "\n",
    "    if (epoch+1) % 10 == 0:\n",
    "        print(f'epoch:{epoch+1}, loss = {loss.item():.4f}')"
   ]
  },
  {
   "cell_type": "markdown",
   "metadata": {},
   "source": [
    "### Plot\n"
   ]
  },
  {
   "cell_type": "code",
   "execution_count": 42,
   "metadata": {},
   "outputs": [
    {
     "data": {
      "image/png": "[encoded data removed]",
      "text/plain": [
       "<Figure size 640x480 with 1 Axes>"
      ]
     },
     "metadata": {},
     "output_type": "display_data"
    }
   ],
   "source": [
    "predicted = model(x).detach().numpy()\n",
    "plt.plot(X_numpy, Y_numpy, 'ro')\n",
    "plt.plot(X_numpy, predicted, \"b\")\n",
    "plt.show()"
   ]
  }
 ],
 "metadata": {
  "kernelspec": {
   "display_name": "base",
   "language": "python",
   "name": "python3"
  },
  "language_info": {
   "codemirror_mode": {
    "name": "ipython",
    "version": 3
   },
   "file_extension": ".py",
   "mimetype": "text/x-python",
   "name": "python",
   "nbconvert_exporter": "python",
   "pygments_lexer": "ipython3",
   "version": "3.10.9"
  },
  "orig_nbformat": 4
 },
 "nbformat": 4,
 "nbformat_minor": 2
}
