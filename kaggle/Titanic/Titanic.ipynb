{
 "cells": [
  {
   "cell_type": "markdown",
   "metadata": {},
   "source": [
    "## **Import package**\n"
   ]
  },
  {
   "cell_type": "code",
   "execution_count": 171,
   "metadata": {},
   "outputs": [],
   "source": [
    "import torch\n",
    "import numpy as np\n",
    "import torch.nn as nn\n",
    "import pandas as pd\n",
    "import matplotlib.pyplot as plt\n",
    "import seaborn as sns\n",
    "from sklearn import preprocessing\n",
    "from sklearn.model_selection import GridSearchCV\n",
    "from sklearn.ensemble import RandomForestClassifier\n",
    "from sklearn.ensemble import RandomForestRegressor\n",
    "\n",
    "import warnings\n",
    "import pandas as pd\n",
    "import numpy as np\n",
    "import matplotlib.pyplot as plt\n",
    "import seaborn as sns"
   ]
  },
  {
   "cell_type": "markdown",
   "metadata": {},
   "source": [
    "## **Check null data**\n"
   ]
  },
  {
   "cell_type": "code",
   "execution_count": 172,
   "metadata": {},
   "outputs": [
    {
     "name": "stdout",
     "output_type": "stream",
     "text": [
      "(891, 12)\n"
     ]
    }
   ],
   "source": [
    "train_data = pd.read_csv(\"./train.csv\")\n",
    "test_data = pd.read_csv(\"./test.csv\")\n",
    "gender_submission = pd.read_csv(\"./gender_submission.csv\")\n",
    "\n",
    "print(train_data.shape)\n",
    "# Age, Cabin, Embarked有缺少值\n",
    "# train_data.info()\n",
    "# Age, Fare, Cabin有缺少值\n",
    "# test_data.info()"
   ]
  },
  {
   "cell_type": "markdown",
   "metadata": {},
   "source": [
    "## **Combine data to Analysis**\n"
   ]
  },
  {
   "cell_type": "code",
   "execution_count": 173,
   "metadata": {},
   "outputs": [
    {
     "name": "stderr",
     "output_type": "stream",
     "text": [
      "/var/folders/xy/_w9xgnh50vx3yskdhjmwlzy40000gn/T/ipykernel_95302/2478461588.py:1: FutureWarning: The frame.append method is deprecated and will be removed from pandas in a future version. Use pandas.concat instead.\n",
      "  data = train_data.append(test_data)\n"
     ]
    },
    {
     "data": {
      "text/html": [
       "<div>\n",
       "<style scoped>\n",
       "    .dataframe tbody tr th:only-of-type {\n",
       "        vertical-align: middle;\n",
       "    }\n",
       "\n",
       "    .dataframe tbody tr th {\n",
       "        vertical-align: top;\n",
       "    }\n",
       "\n",
       "    .dataframe thead th {\n",
       "        text-align: right;\n",
       "    }\n",
       "</style>\n",
       "<table border=\"1\" class=\"dataframe\">\n",
       "  <thead>\n",
       "    <tr style=\"text-align: right;\">\n",
       "      <th></th>\n",
       "      <th>PassengerId</th>\n",
       "      <th>Survived</th>\n",
       "      <th>Pclass</th>\n",
       "      <th>Name</th>\n",
       "      <th>Sex</th>\n",
       "      <th>Age</th>\n",
       "      <th>SibSp</th>\n",
       "      <th>Parch</th>\n",
       "      <th>Ticket</th>\n",
       "      <th>Fare</th>\n",
       "      <th>Cabin</th>\n",
       "      <th>Embarked</th>\n",
       "    </tr>\n",
       "  </thead>\n",
       "  <tbody>\n",
       "    <tr>\n",
       "      <th>0</th>\n",
       "      <td>1</td>\n",
       "      <td>0.0</td>\n",
       "      <td>3</td>\n",
       "      <td>Braund, Mr. Owen Harris</td>\n",
       "      <td>male</td>\n",
       "      <td>22.0</td>\n",
       "      <td>1</td>\n",
       "      <td>0</td>\n",
       "      <td>A/5 21171</td>\n",
       "      <td>7.2500</td>\n",
       "      <td>NaN</td>\n",
       "      <td>S</td>\n",
       "    </tr>\n",
       "    <tr>\n",
       "      <th>1</th>\n",
       "      <td>2</td>\n",
       "      <td>1.0</td>\n",
       "      <td>1</td>\n",
       "      <td>Cumings, Mrs. John Bradley (Florence Briggs Th...</td>\n",
       "      <td>female</td>\n",
       "      <td>38.0</td>\n",
       "      <td>1</td>\n",
       "      <td>0</td>\n",
       "      <td>PC 17599</td>\n",
       "      <td>71.2833</td>\n",
       "      <td>C85</td>\n",
       "      <td>C</td>\n",
       "    </tr>\n",
       "    <tr>\n",
       "      <th>2</th>\n",
       "      <td>3</td>\n",
       "      <td>1.0</td>\n",
       "      <td>3</td>\n",
       "      <td>Heikkinen, Miss. Laina</td>\n",
       "      <td>female</td>\n",
       "      <td>26.0</td>\n",
       "      <td>0</td>\n",
       "      <td>0</td>\n",
       "      <td>STON/O2. 3101282</td>\n",
       "      <td>7.9250</td>\n",
       "      <td>NaN</td>\n",
       "      <td>S</td>\n",
       "    </tr>\n",
       "    <tr>\n",
       "      <th>3</th>\n",
       "      <td>4</td>\n",
       "      <td>1.0</td>\n",
       "      <td>1</td>\n",
       "      <td>Futrelle, Mrs. Jacques Heath (Lily May Peel)</td>\n",
       "      <td>female</td>\n",
       "      <td>35.0</td>\n",
       "      <td>1</td>\n",
       "      <td>0</td>\n",
       "      <td>113803</td>\n",
       "      <td>53.1000</td>\n",
       "      <td>C123</td>\n",
       "      <td>S</td>\n",
       "    </tr>\n",
       "    <tr>\n",
       "      <th>4</th>\n",
       "      <td>5</td>\n",
       "      <td>0.0</td>\n",
       "      <td>3</td>\n",
       "      <td>Allen, Mr. William Henry</td>\n",
       "      <td>male</td>\n",
       "      <td>35.0</td>\n",
       "      <td>0</td>\n",
       "      <td>0</td>\n",
       "      <td>373450</td>\n",
       "      <td>8.0500</td>\n",
       "      <td>NaN</td>\n",
       "      <td>S</td>\n",
       "    </tr>\n",
       "  </tbody>\n",
       "</table>\n",
       "</div>"
      ],
      "text/plain": [
       "   PassengerId  Survived  Pclass  \\\n",
       "0            1       0.0       3   \n",
       "1            2       1.0       1   \n",
       "2            3       1.0       3   \n",
       "3            4       1.0       1   \n",
       "4            5       0.0       3   \n",
       "\n",
       "                                                Name     Sex   Age  SibSp  \\\n",
       "0                            Braund, Mr. Owen Harris    male  22.0      1   \n",
       "1  Cumings, Mrs. John Bradley (Florence Briggs Th...  female  38.0      1   \n",
       "2                             Heikkinen, Miss. Laina  female  26.0      0   \n",
       "3       Futrelle, Mrs. Jacques Heath (Lily May Peel)  female  35.0      1   \n",
       "4                           Allen, Mr. William Henry    male  35.0      0   \n",
       "\n",
       "   Parch            Ticket     Fare Cabin Embarked  \n",
       "0      0         A/5 21171   7.2500   NaN        S  \n",
       "1      0          PC 17599  71.2833   C85        C  \n",
       "2      0  STON/O2. 3101282   7.9250   NaN        S  \n",
       "3      0            113803  53.1000  C123        S  \n",
       "4      0            373450   8.0500   NaN        S  "
      ]
     },
     "execution_count": 173,
     "metadata": {},
     "output_type": "execute_result"
    }
   ],
   "source": [
    "data = train_data.append(test_data)\n",
    "# index 重疊\n",
    "data.reset_index(inplace=True, drop=True)\n",
    "data.head()"
   ]
  },
  {
   "cell_type": "code",
   "execution_count": 174,
   "metadata": {},
   "outputs": [
    {
     "data": {
      "text/plain": [
       "<Axes: xlabel='Survived', ylabel='count'>"
      ]
     },
     "execution_count": 174,
     "metadata": {},
     "output_type": "execute_result"
    },
    {
     "data": {
      "image/png": "[encoded data removed]",
      "text/plain": [
       "<Figure size 640x480 with 1 Axes>"
      ]
     },
     "metadata": {},
     "output_type": "display_data"
    }
   ],
   "source": [
    "sns.countplot(x=\"Survived\", data=data)"
   ]
  },
  {
   "cell_type": "code",
   "execution_count": 175,
   "metadata": {},
   "outputs": [
    {
     "data": {
      "text/plain": [
       "<Axes: xlabel='Pclass', ylabel='count'>"
      ]
     },
     "execution_count": 175,
     "metadata": {},
     "output_type": "execute_result"
    },
    {
     "data": {
      "image/png": "[encoded data removed]",
      "text/plain": [
       "<Figure size 640x480 with 1 Axes>"
      ]
     },
     "metadata": {},
     "output_type": "display_data"
    }
   ],
   "source": [
    "# 坐class3的死亡率高\n",
    "sns.countplot(x=\"Pclass\", hue=\"Survived\", data=data)"
   ]
  },
  {
   "cell_type": "code",
   "execution_count": 176,
   "metadata": {},
   "outputs": [
    {
     "data": {
      "text/plain": [
       "<Axes: xlabel='Sex', ylabel='count'>"
      ]
     },
     "execution_count": 176,
     "metadata": {},
     "output_type": "execute_result"
    },
    {
     "data": {
      "image/png": "[encoded data removed]",
      "text/plain": [
       "<Figure size 640x480 with 1 Axes>"
      ]
     },
     "metadata": {},
     "output_type": "display_data"
    }
   ],
   "source": [
    "# 女生存活率高\n",
    "sns.countplot(x=\"Sex\", hue=\"Survived\", data=data)"
   ]
  },
  {
   "cell_type": "code",
   "execution_count": 177,
   "metadata": {},
   "outputs": [
    {
     "data": {
      "text/plain": [
       "<Axes: xlabel='Embarked', ylabel='count'>"
      ]
     },
     "execution_count": 177,
     "metadata": {},
     "output_type": "execute_result"
    },
    {
     "data": {
      "image/png": "[encoded data removed]",
      "text/plain": [
       "<Figure size 640x480 with 1 Axes>"
      ]
     },
     "metadata": {},
     "output_type": "display_data"
    }
   ],
   "source": [
    "# 從S港出發的死亡率高\n",
    "sns.countplot(x=\"Embarked\", hue=\"Survived\", data=data)"
   ]
  },
  {
   "cell_type": "code",
   "execution_count": 178,
   "metadata": {},
   "outputs": [
    {
     "data": {
      "text/plain": [
       "<seaborn.axisgrid.FacetGrid at 0x7fdb239b3ac0>"
      ]
     },
     "execution_count": 178,
     "metadata": {},
     "output_type": "execute_result"
    },
    {
     "data": {
      "image/png": "[encoded data removed]",
      "text/plain": [
       "<Figure size 600x300 with 2 Axes>"
      ]
     },
     "metadata": {},
     "output_type": "display_data"
    }
   ],
   "source": [
    "# 小孩存活率高\n",
    "g = sns.FacetGrid(data, col='Survived')\n",
    "g.map(sns.histplot, 'Age')"
   ]
  },
  {
   "cell_type": "code",
   "execution_count": 179,
   "metadata": {},
   "outputs": [
    {
     "data": {
      "text/plain": [
       "<seaborn.axisgrid.FacetGrid at 0x7fdb23a7a260>"
      ]
     },
     "execution_count": 179,
     "metadata": {},
     "output_type": "execute_result"
    },
    {
     "data": {
      "image/png": "[encoded data removed]",
      "text/plain": [
       "<Figure size 600x300 with 2 Axes>"
      ]
     },
     "metadata": {},
     "output_type": "display_data"
    }
   ],
   "source": [
    "# 有父母陪伴的存活率高\n",
    "g = sns.FacetGrid(data, col='Survived')\n",
    "g.map(sns.histplot, 'Parch')"
   ]
  },
  {
   "cell_type": "code",
   "execution_count": 180,
   "metadata": {},
   "outputs": [
    {
     "data": {
      "text/plain": [
       "<seaborn.axisgrid.FacetGrid at 0x7fdb456a53f0>"
      ]
     },
     "execution_count": 180,
     "metadata": {},
     "output_type": "execute_result"
    },
    {
     "data": {
      "image/png": "[encoded data removed]",
      "text/plain": [
       "<Figure size 600x300 with 2 Axes>"
      ]
     },
     "metadata": {},
     "output_type": "display_data"
    }
   ],
   "source": [
    "# 有親屬的存活率高\n",
    "g = sns.FacetGrid(data, col='Survived')\n",
    "g.map(sns.histplot, 'SibSp')"
   ]
  },
  {
   "cell_type": "code",
   "execution_count": 181,
   "metadata": {},
   "outputs": [
    {
     "data": {
      "text/plain": [
       "<seaborn.axisgrid.FacetGrid at 0x7fdb02597370>"
      ]
     },
     "execution_count": 181,
     "metadata": {},
     "output_type": "execute_result"
    },
    {
     "data": {
      "image/png": "[encoded data removed]",
      "text/plain": [
       "<Figure size 600x300 with 2 Axes>"
      ]
     },
     "metadata": {},
     "output_type": "display_data"
    }
   ],
   "source": [
    "data['Family_Size'] = data['Parch']+data['SibSp']\n",
    "g = sns.FacetGrid(data, col='Survived')\n",
    "g.map(sns.histplot, 'Family_Size')"
   ]
  },
  {
   "cell_type": "markdown",
   "metadata": {},
   "source": [
    "## **Feature Engineering**\n"
   ]
  },
  {
   "cell_type": "code",
   "execution_count": 182,
   "metadata": {},
   "outputs": [
    {
     "data": {
      "text/html": [
       "<div>\n",
       "<style scoped>\n",
       "    .dataframe tbody tr th:only-of-type {\n",
       "        vertical-align: middle;\n",
       "    }\n",
       "\n",
       "    .dataframe tbody tr th {\n",
       "        vertical-align: top;\n",
       "    }\n",
       "\n",
       "    .dataframe thead th {\n",
       "        text-align: right;\n",
       "    }\n",
       "</style>\n",
       "<table border=\"1\" class=\"dataframe\">\n",
       "  <thead>\n",
       "    <tr style=\"text-align: right;\">\n",
       "      <th></th>\n",
       "      <th>0</th>\n",
       "      <th>1</th>\n",
       "    </tr>\n",
       "  </thead>\n",
       "  <tbody>\n",
       "    <tr>\n",
       "      <th>0</th>\n",
       "      <td>Braund</td>\n",
       "      <td>Mr. Owen Harris</td>\n",
       "    </tr>\n",
       "    <tr>\n",
       "      <th>1</th>\n",
       "      <td>Cumings</td>\n",
       "      <td>Mrs. John Bradley (Florence Briggs Thayer)</td>\n",
       "    </tr>\n",
       "    <tr>\n",
       "      <th>2</th>\n",
       "      <td>Heikkinen</td>\n",
       "      <td>Miss. Laina</td>\n",
       "    </tr>\n",
       "    <tr>\n",
       "      <th>3</th>\n",
       "      <td>Futrelle</td>\n",
       "      <td>Mrs. Jacques Heath (Lily May Peel)</td>\n",
       "    </tr>\n",
       "    <tr>\n",
       "      <th>4</th>\n",
       "      <td>Allen</td>\n",
       "      <td>Mr. William Henry</td>\n",
       "    </tr>\n",
       "  </tbody>\n",
       "</table>\n",
       "</div>"
      ],
      "text/plain": [
       "           0                                           1\n",
       "0     Braund                             Mr. Owen Harris\n",
       "1    Cumings  Mrs. John Bradley (Florence Briggs Thayer)\n",
       "2  Heikkinen                                 Miss. Laina\n",
       "3   Futrelle          Mrs. Jacques Heath (Lily May Peel)\n",
       "4      Allen                           Mr. William Henry"
      ]
     },
     "execution_count": 182,
     "metadata": {},
     "output_type": "execute_result"
    }
   ],
   "source": [
    "data['Title1'] = data['Name'].str.split(\", \", expand=True)[1]\n",
    "data['Name'].str.split(\", \", expand=True).head()"
   ]
  },
  {
   "cell_type": "code",
   "execution_count": 183,
   "metadata": {},
   "outputs": [
    {
     "data": {
      "text/html": [
       "<style type=\"text/css\">\n",
       "#T_0784a_row0_col0, #T_0784a_row0_col1, #T_0784a_row0_col2, #T_0784a_row0_col4, #T_0784a_row0_col5, #T_0784a_row0_col7, #T_0784a_row0_col8, #T_0784a_row0_col12, #T_0784a_row0_col15, #T_0784a_row0_col16, #T_0784a_row1_col3, #T_0784a_row1_col6, #T_0784a_row1_col9, #T_0784a_row1_col10, #T_0784a_row1_col11, #T_0784a_row1_col13, #T_0784a_row1_col14, #T_0784a_row1_col17 {\n",
       "  background-color: #ffff66;\n",
       "  color: #000000;\n",
       "}\n",
       "#T_0784a_row0_col3, #T_0784a_row0_col6, #T_0784a_row0_col9, #T_0784a_row0_col10, #T_0784a_row0_col11, #T_0784a_row0_col13, #T_0784a_row0_col14, #T_0784a_row0_col17, #T_0784a_row1_col0, #T_0784a_row1_col1, #T_0784a_row1_col2, #T_0784a_row1_col4, #T_0784a_row1_col5, #T_0784a_row1_col7, #T_0784a_row1_col8, #T_0784a_row1_col12, #T_0784a_row1_col15, #T_0784a_row1_col16 {\n",
       "  background-color: #008066;\n",
       "  color: #f1f1f1;\n",
       "}\n",
       "</style>\n",
       "<table id=\"T_0784a\">\n",
       "  <thead>\n",
       "    <tr>\n",
       "      <th class=\"index_name level0\" >Title1</th>\n",
       "      <th id=\"T_0784a_level0_col0\" class=\"col_heading level0 col0\" >Capt</th>\n",
       "      <th id=\"T_0784a_level0_col1\" class=\"col_heading level0 col1\" >Col</th>\n",
       "      <th id=\"T_0784a_level0_col2\" class=\"col_heading level0 col2\" >Don</th>\n",
       "      <th id=\"T_0784a_level0_col3\" class=\"col_heading level0 col3\" >Dona</th>\n",
       "      <th id=\"T_0784a_level0_col4\" class=\"col_heading level0 col4\" >Dr</th>\n",
       "      <th id=\"T_0784a_level0_col5\" class=\"col_heading level0 col5\" >Jonkheer</th>\n",
       "      <th id=\"T_0784a_level0_col6\" class=\"col_heading level0 col6\" >Lady</th>\n",
       "      <th id=\"T_0784a_level0_col7\" class=\"col_heading level0 col7\" >Major</th>\n",
       "      <th id=\"T_0784a_level0_col8\" class=\"col_heading level0 col8\" >Master</th>\n",
       "      <th id=\"T_0784a_level0_col9\" class=\"col_heading level0 col9\" >Miss</th>\n",
       "      <th id=\"T_0784a_level0_col10\" class=\"col_heading level0 col10\" >Mlle</th>\n",
       "      <th id=\"T_0784a_level0_col11\" class=\"col_heading level0 col11\" >Mme</th>\n",
       "      <th id=\"T_0784a_level0_col12\" class=\"col_heading level0 col12\" >Mr</th>\n",
       "      <th id=\"T_0784a_level0_col13\" class=\"col_heading level0 col13\" >Mrs</th>\n",
       "      <th id=\"T_0784a_level0_col14\" class=\"col_heading level0 col14\" >Ms</th>\n",
       "      <th id=\"T_0784a_level0_col15\" class=\"col_heading level0 col15\" >Rev</th>\n",
       "      <th id=\"T_0784a_level0_col16\" class=\"col_heading level0 col16\" >Sir</th>\n",
       "      <th id=\"T_0784a_level0_col17\" class=\"col_heading level0 col17\" >th</th>\n",
       "    </tr>\n",
       "    <tr>\n",
       "      <th class=\"index_name level0\" >Sex</th>\n",
       "      <th class=\"blank col0\" >&nbsp;</th>\n",
       "      <th class=\"blank col1\" >&nbsp;</th>\n",
       "      <th class=\"blank col2\" >&nbsp;</th>\n",
       "      <th class=\"blank col3\" >&nbsp;</th>\n",
       "      <th class=\"blank col4\" >&nbsp;</th>\n",
       "      <th class=\"blank col5\" >&nbsp;</th>\n",
       "      <th class=\"blank col6\" >&nbsp;</th>\n",
       "      <th class=\"blank col7\" >&nbsp;</th>\n",
       "      <th class=\"blank col8\" >&nbsp;</th>\n",
       "      <th class=\"blank col9\" >&nbsp;</th>\n",
       "      <th class=\"blank col10\" >&nbsp;</th>\n",
       "      <th class=\"blank col11\" >&nbsp;</th>\n",
       "      <th class=\"blank col12\" >&nbsp;</th>\n",
       "      <th class=\"blank col13\" >&nbsp;</th>\n",
       "      <th class=\"blank col14\" >&nbsp;</th>\n",
       "      <th class=\"blank col15\" >&nbsp;</th>\n",
       "      <th class=\"blank col16\" >&nbsp;</th>\n",
       "      <th class=\"blank col17\" >&nbsp;</th>\n",
       "    </tr>\n",
       "  </thead>\n",
       "  <tbody>\n",
       "    <tr>\n",
       "      <th id=\"T_0784a_level0_row0\" class=\"row_heading level0 row0\" >female</th>\n",
       "      <td id=\"T_0784a_row0_col0\" class=\"data row0 col0\" >0</td>\n",
       "      <td id=\"T_0784a_row0_col1\" class=\"data row0 col1\" >0</td>\n",
       "      <td id=\"T_0784a_row0_col2\" class=\"data row0 col2\" >0</td>\n",
       "      <td id=\"T_0784a_row0_col3\" class=\"data row0 col3\" >1</td>\n",
       "      <td id=\"T_0784a_row0_col4\" class=\"data row0 col4\" >1</td>\n",
       "      <td id=\"T_0784a_row0_col5\" class=\"data row0 col5\" >0</td>\n",
       "      <td id=\"T_0784a_row0_col6\" class=\"data row0 col6\" >1</td>\n",
       "      <td id=\"T_0784a_row0_col7\" class=\"data row0 col7\" >0</td>\n",
       "      <td id=\"T_0784a_row0_col8\" class=\"data row0 col8\" >0</td>\n",
       "      <td id=\"T_0784a_row0_col9\" class=\"data row0 col9\" >260</td>\n",
       "      <td id=\"T_0784a_row0_col10\" class=\"data row0 col10\" >2</td>\n",
       "      <td id=\"T_0784a_row0_col11\" class=\"data row0 col11\" >1</td>\n",
       "      <td id=\"T_0784a_row0_col12\" class=\"data row0 col12\" >0</td>\n",
       "      <td id=\"T_0784a_row0_col13\" class=\"data row0 col13\" >197</td>\n",
       "      <td id=\"T_0784a_row0_col14\" class=\"data row0 col14\" >2</td>\n",
       "      <td id=\"T_0784a_row0_col15\" class=\"data row0 col15\" >0</td>\n",
       "      <td id=\"T_0784a_row0_col16\" class=\"data row0 col16\" >0</td>\n",
       "      <td id=\"T_0784a_row0_col17\" class=\"data row0 col17\" >1</td>\n",
       "    </tr>\n",
       "    <tr>\n",
       "      <th id=\"T_0784a_level0_row1\" class=\"row_heading level0 row1\" >male</th>\n",
       "      <td id=\"T_0784a_row1_col0\" class=\"data row1 col0\" >1</td>\n",
       "      <td id=\"T_0784a_row1_col1\" class=\"data row1 col1\" >4</td>\n",
       "      <td id=\"T_0784a_row1_col2\" class=\"data row1 col2\" >1</td>\n",
       "      <td id=\"T_0784a_row1_col3\" class=\"data row1 col3\" >0</td>\n",
       "      <td id=\"T_0784a_row1_col4\" class=\"data row1 col4\" >7</td>\n",
       "      <td id=\"T_0784a_row1_col5\" class=\"data row1 col5\" >1</td>\n",
       "      <td id=\"T_0784a_row1_col6\" class=\"data row1 col6\" >0</td>\n",
       "      <td id=\"T_0784a_row1_col7\" class=\"data row1 col7\" >2</td>\n",
       "      <td id=\"T_0784a_row1_col8\" class=\"data row1 col8\" >61</td>\n",
       "      <td id=\"T_0784a_row1_col9\" class=\"data row1 col9\" >0</td>\n",
       "      <td id=\"T_0784a_row1_col10\" class=\"data row1 col10\" >0</td>\n",
       "      <td id=\"T_0784a_row1_col11\" class=\"data row1 col11\" >0</td>\n",
       "      <td id=\"T_0784a_row1_col12\" class=\"data row1 col12\" >757</td>\n",
       "      <td id=\"T_0784a_row1_col13\" class=\"data row1 col13\" >0</td>\n",
       "      <td id=\"T_0784a_row1_col14\" class=\"data row1 col14\" >0</td>\n",
       "      <td id=\"T_0784a_row1_col15\" class=\"data row1 col15\" >8</td>\n",
       "      <td id=\"T_0784a_row1_col16\" class=\"data row1 col16\" >1</td>\n",
       "      <td id=\"T_0784a_row1_col17\" class=\"data row1 col17\" >0</td>\n",
       "    </tr>\n",
       "  </tbody>\n",
       "</table>\n"
      ],
      "text/plain": [
       "<pandas.io.formats.style.Styler at 0x7fdb6504b460>"
      ]
     },
     "execution_count": 183,
     "metadata": {},
     "output_type": "execute_result"
    }
   ],
   "source": [
    "data['Title1'] = data['Title1'].str.split(\". \", expand=True)[0]\n",
    "data['Title1'].head()\n",
    "data['Title1'].unique()\n",
    "\n",
    "pd.crosstab(data[\"Title1\"], data[\"Sex\"]\n",
    "            ).T.style.background_gradient(cmap=\"summer_r\")"
   ]
  },
  {
   "cell_type": "code",
   "execution_count": 184,
   "metadata": {},
   "outputs": [
    {
     "data": {
      "text/html": [
       "<style type=\"text/css\">\n",
       "#T_411d8_row0_col0, #T_411d8_row0_col2, #T_411d8_row0_col3, #T_411d8_row0_col4, #T_411d8_row0_col11, #T_411d8_row0_col14, #T_411d8_row1_col5, #T_411d8_row1_col7, #T_411d8_row1_col8, #T_411d8_row1_col9, #T_411d8_row1_col10, #T_411d8_row1_col12, #T_411d8_row1_col13, #T_411d8_row1_col15, #T_411d8_row1_col16 {\n",
       "  background-color: #008066;\n",
       "  color: #f1f1f1;\n",
       "}\n",
       "#T_411d8_row0_col1, #T_411d8_row0_col5, #T_411d8_row0_col6, #T_411d8_row0_col7, #T_411d8_row0_col8, #T_411d8_row0_col9, #T_411d8_row0_col10, #T_411d8_row0_col12, #T_411d8_row0_col13, #T_411d8_row0_col15, #T_411d8_row0_col16, #T_411d8_row1_col0, #T_411d8_row1_col1, #T_411d8_row1_col2, #T_411d8_row1_col3, #T_411d8_row1_col4, #T_411d8_row1_col6, #T_411d8_row1_col11, #T_411d8_row1_col14 {\n",
       "  background-color: #ffff66;\n",
       "  color: #000000;\n",
       "}\n",
       "</style>\n",
       "<table id=\"T_411d8\">\n",
       "  <thead>\n",
       "    <tr>\n",
       "      <th class=\"index_name level0\" >Title1</th>\n",
       "      <th id=\"T_411d8_level0_col0\" class=\"col_heading level0 col0\" >Capt</th>\n",
       "      <th id=\"T_411d8_level0_col1\" class=\"col_heading level0 col1\" >Col</th>\n",
       "      <th id=\"T_411d8_level0_col2\" class=\"col_heading level0 col2\" >Don</th>\n",
       "      <th id=\"T_411d8_level0_col3\" class=\"col_heading level0 col3\" >Dr</th>\n",
       "      <th id=\"T_411d8_level0_col4\" class=\"col_heading level0 col4\" >Jonkheer</th>\n",
       "      <th id=\"T_411d8_level0_col5\" class=\"col_heading level0 col5\" >Lady</th>\n",
       "      <th id=\"T_411d8_level0_col6\" class=\"col_heading level0 col6\" >Major</th>\n",
       "      <th id=\"T_411d8_level0_col7\" class=\"col_heading level0 col7\" >Master</th>\n",
       "      <th id=\"T_411d8_level0_col8\" class=\"col_heading level0 col8\" >Miss</th>\n",
       "      <th id=\"T_411d8_level0_col9\" class=\"col_heading level0 col9\" >Mlle</th>\n",
       "      <th id=\"T_411d8_level0_col10\" class=\"col_heading level0 col10\" >Mme</th>\n",
       "      <th id=\"T_411d8_level0_col11\" class=\"col_heading level0 col11\" >Mr</th>\n",
       "      <th id=\"T_411d8_level0_col12\" class=\"col_heading level0 col12\" >Mrs</th>\n",
       "      <th id=\"T_411d8_level0_col13\" class=\"col_heading level0 col13\" >Ms</th>\n",
       "      <th id=\"T_411d8_level0_col14\" class=\"col_heading level0 col14\" >Rev</th>\n",
       "      <th id=\"T_411d8_level0_col15\" class=\"col_heading level0 col15\" >Sir</th>\n",
       "      <th id=\"T_411d8_level0_col16\" class=\"col_heading level0 col16\" >th</th>\n",
       "    </tr>\n",
       "    <tr>\n",
       "      <th class=\"index_name level0\" >Survived</th>\n",
       "      <th class=\"blank col0\" >&nbsp;</th>\n",
       "      <th class=\"blank col1\" >&nbsp;</th>\n",
       "      <th class=\"blank col2\" >&nbsp;</th>\n",
       "      <th class=\"blank col3\" >&nbsp;</th>\n",
       "      <th class=\"blank col4\" >&nbsp;</th>\n",
       "      <th class=\"blank col5\" >&nbsp;</th>\n",
       "      <th class=\"blank col6\" >&nbsp;</th>\n",
       "      <th class=\"blank col7\" >&nbsp;</th>\n",
       "      <th class=\"blank col8\" >&nbsp;</th>\n",
       "      <th class=\"blank col9\" >&nbsp;</th>\n",
       "      <th class=\"blank col10\" >&nbsp;</th>\n",
       "      <th class=\"blank col11\" >&nbsp;</th>\n",
       "      <th class=\"blank col12\" >&nbsp;</th>\n",
       "      <th class=\"blank col13\" >&nbsp;</th>\n",
       "      <th class=\"blank col14\" >&nbsp;</th>\n",
       "      <th class=\"blank col15\" >&nbsp;</th>\n",
       "      <th class=\"blank col16\" >&nbsp;</th>\n",
       "    </tr>\n",
       "  </thead>\n",
       "  <tbody>\n",
       "    <tr>\n",
       "      <th id=\"T_411d8_level0_row0\" class=\"row_heading level0 row0\" >0.000000</th>\n",
       "      <td id=\"T_411d8_row0_col0\" class=\"data row0 col0\" >1</td>\n",
       "      <td id=\"T_411d8_row0_col1\" class=\"data row0 col1\" >1</td>\n",
       "      <td id=\"T_411d8_row0_col2\" class=\"data row0 col2\" >1</td>\n",
       "      <td id=\"T_411d8_row0_col3\" class=\"data row0 col3\" >4</td>\n",
       "      <td id=\"T_411d8_row0_col4\" class=\"data row0 col4\" >1</td>\n",
       "      <td id=\"T_411d8_row0_col5\" class=\"data row0 col5\" >0</td>\n",
       "      <td id=\"T_411d8_row0_col6\" class=\"data row0 col6\" >1</td>\n",
       "      <td id=\"T_411d8_row0_col7\" class=\"data row0 col7\" >17</td>\n",
       "      <td id=\"T_411d8_row0_col8\" class=\"data row0 col8\" >55</td>\n",
       "      <td id=\"T_411d8_row0_col9\" class=\"data row0 col9\" >0</td>\n",
       "      <td id=\"T_411d8_row0_col10\" class=\"data row0 col10\" >0</td>\n",
       "      <td id=\"T_411d8_row0_col11\" class=\"data row0 col11\" >436</td>\n",
       "      <td id=\"T_411d8_row0_col12\" class=\"data row0 col12\" >26</td>\n",
       "      <td id=\"T_411d8_row0_col13\" class=\"data row0 col13\" >0</td>\n",
       "      <td id=\"T_411d8_row0_col14\" class=\"data row0 col14\" >6</td>\n",
       "      <td id=\"T_411d8_row0_col15\" class=\"data row0 col15\" >0</td>\n",
       "      <td id=\"T_411d8_row0_col16\" class=\"data row0 col16\" >0</td>\n",
       "    </tr>\n",
       "    <tr>\n",
       "      <th id=\"T_411d8_level0_row1\" class=\"row_heading level0 row1\" >1.000000</th>\n",
       "      <td id=\"T_411d8_row1_col0\" class=\"data row1 col0\" >0</td>\n",
       "      <td id=\"T_411d8_row1_col1\" class=\"data row1 col1\" >1</td>\n",
       "      <td id=\"T_411d8_row1_col2\" class=\"data row1 col2\" >0</td>\n",
       "      <td id=\"T_411d8_row1_col3\" class=\"data row1 col3\" >3</td>\n",
       "      <td id=\"T_411d8_row1_col4\" class=\"data row1 col4\" >0</td>\n",
       "      <td id=\"T_411d8_row1_col5\" class=\"data row1 col5\" >1</td>\n",
       "      <td id=\"T_411d8_row1_col6\" class=\"data row1 col6\" >1</td>\n",
       "      <td id=\"T_411d8_row1_col7\" class=\"data row1 col7\" >23</td>\n",
       "      <td id=\"T_411d8_row1_col8\" class=\"data row1 col8\" >127</td>\n",
       "      <td id=\"T_411d8_row1_col9\" class=\"data row1 col9\" >2</td>\n",
       "      <td id=\"T_411d8_row1_col10\" class=\"data row1 col10\" >1</td>\n",
       "      <td id=\"T_411d8_row1_col11\" class=\"data row1 col11\" >81</td>\n",
       "      <td id=\"T_411d8_row1_col12\" class=\"data row1 col12\" >99</td>\n",
       "      <td id=\"T_411d8_row1_col13\" class=\"data row1 col13\" >1</td>\n",
       "      <td id=\"T_411d8_row1_col14\" class=\"data row1 col14\" >0</td>\n",
       "      <td id=\"T_411d8_row1_col15\" class=\"data row1 col15\" >1</td>\n",
       "      <td id=\"T_411d8_row1_col16\" class=\"data row1 col16\" >1</td>\n",
       "    </tr>\n",
       "  </tbody>\n",
       "</table>\n"
      ],
      "text/plain": [
       "<pandas.io.formats.style.Styler at 0x7fdb239d4d60>"
      ]
     },
     "execution_count": 184,
     "metadata": {},
     "output_type": "execute_result"
    }
   ],
   "source": [
    "pd.crosstab(data[\"Title1\"], data[\"Survived\"]\n",
    "            ).T.style.background_gradient(cmap=\"summer_r\")"
   ]
  },
  {
   "cell_type": "code",
   "execution_count": 185,
   "metadata": {},
   "outputs": [
    {
     "data": {
      "text/plain": [
       "Title1\n",
       "Capt        70.000000\n",
       "Col         54.000000\n",
       "Don         40.000000\n",
       "Dona        39.000000\n",
       "Dr          43.571429\n",
       "Jonkheer    38.000000\n",
       "Lady        48.000000\n",
       "Major       48.500000\n",
       "Master       5.482642\n",
       "Miss        21.774238\n",
       "Mlle        24.000000\n",
       "Mme         24.000000\n",
       "Mr          32.252151\n",
       "Mrs         36.994118\n",
       "Ms          28.000000\n",
       "Rev         41.250000\n",
       "Sir         49.000000\n",
       "th          33.000000\n",
       "Name: Age, dtype: float64"
      ]
     },
     "execution_count": 185,
     "metadata": {},
     "output_type": "execute_result"
    }
   ],
   "source": [
    "data.groupby(['Title1'])['Age'].mean()"
   ]
  },
  {
   "cell_type": "code",
   "execution_count": 186,
   "metadata": {},
   "outputs": [
    {
     "data": {
      "text/plain": [
       "array(['Mr', 'Mrs', 'Miss', 'Master'], dtype=object)"
      ]
     },
     "execution_count": 186,
     "metadata": {},
     "output_type": "execute_result"
    }
   ],
   "source": [
    "name_mapping = {\n",
    "    'Mr': 'Mr',\n",
    "    'Mrs': 'Mrs',\n",
    "    'Miss': 'Miss',\n",
    "    'Master': 'Master',\n",
    "    'Don': 'Mr',\n",
    "    'Rev': 'Mr',\n",
    "    'Dr': 'Mr',\n",
    "    'Mme': 'Mrs',\n",
    "    'Ms': 'Miss',\n",
    "    'Major': 'Mr',\n",
    "    'Lady': 'Mrs',\n",
    "    'Sir': 'Mr',\n",
    "    'Mlle': 'Miss',\n",
    "    'Col': 'Mr',\n",
    "    'Capt': 'Mr',\n",
    "    'the Countess': 'Mrs',\n",
    "    'Jonkheer': 'Mr',\n",
    "    'Dona': 'Miss',\n",
    "    'th': \"Mr\"\n",
    "}\n",
    "data['Title2'] = data['Title1'].replace(name_mapping)\n",
    "data['Title2'].unique()"
   ]
  },
  {
   "cell_type": "code",
   "execution_count": 187,
   "metadata": {},
   "outputs": [
    {
     "data": {
      "text/html": [
       "<style type=\"text/css\">\n",
       "#T_bdf56_row0_col0, #T_bdf56_row0_col2, #T_bdf56_row1_col1, #T_bdf56_row1_col3 {\n",
       "  background-color: #ffff66;\n",
       "  color: #000000;\n",
       "}\n",
       "#T_bdf56_row0_col1, #T_bdf56_row0_col3, #T_bdf56_row1_col0, #T_bdf56_row1_col2 {\n",
       "  background-color: #008066;\n",
       "  color: #f1f1f1;\n",
       "}\n",
       "</style>\n",
       "<table id=\"T_bdf56\">\n",
       "  <thead>\n",
       "    <tr>\n",
       "      <th class=\"index_name level0\" >Title2</th>\n",
       "      <th id=\"T_bdf56_level0_col0\" class=\"col_heading level0 col0\" >Master</th>\n",
       "      <th id=\"T_bdf56_level0_col1\" class=\"col_heading level0 col1\" >Miss</th>\n",
       "      <th id=\"T_bdf56_level0_col2\" class=\"col_heading level0 col2\" >Mr</th>\n",
       "      <th id=\"T_bdf56_level0_col3\" class=\"col_heading level0 col3\" >Mrs</th>\n",
       "    </tr>\n",
       "    <tr>\n",
       "      <th class=\"index_name level0\" >Sex</th>\n",
       "      <th class=\"blank col0\" >&nbsp;</th>\n",
       "      <th class=\"blank col1\" >&nbsp;</th>\n",
       "      <th class=\"blank col2\" >&nbsp;</th>\n",
       "      <th class=\"blank col3\" >&nbsp;</th>\n",
       "    </tr>\n",
       "  </thead>\n",
       "  <tbody>\n",
       "    <tr>\n",
       "      <th id=\"T_bdf56_level0_row0\" class=\"row_heading level0 row0\" >female</th>\n",
       "      <td id=\"T_bdf56_row0_col0\" class=\"data row0 col0\" >0</td>\n",
       "      <td id=\"T_bdf56_row0_col1\" class=\"data row0 col1\" >265</td>\n",
       "      <td id=\"T_bdf56_row0_col2\" class=\"data row0 col2\" >2</td>\n",
       "      <td id=\"T_bdf56_row0_col3\" class=\"data row0 col3\" >199</td>\n",
       "    </tr>\n",
       "    <tr>\n",
       "      <th id=\"T_bdf56_level0_row1\" class=\"row_heading level0 row1\" >male</th>\n",
       "      <td id=\"T_bdf56_row1_col0\" class=\"data row1 col0\" >61</td>\n",
       "      <td id=\"T_bdf56_row1_col1\" class=\"data row1 col1\" >0</td>\n",
       "      <td id=\"T_bdf56_row1_col2\" class=\"data row1 col2\" >782</td>\n",
       "      <td id=\"T_bdf56_row1_col3\" class=\"data row1 col3\" >0</td>\n",
       "    </tr>\n",
       "  </tbody>\n",
       "</table>\n"
      ],
      "text/plain": [
       "<pandas.io.formats.style.Styler at 0x7fdb238fb610>"
      ]
     },
     "execution_count": 187,
     "metadata": {},
     "output_type": "execute_result"
    }
   ],
   "source": [
    "pd.crosstab(data[\"Title2\"], data[\"Sex\"]\n",
    "            ).T.style.background_gradient(cmap=\"summer_r\")"
   ]
  },
  {
   "cell_type": "code",
   "execution_count": 188,
   "metadata": {},
   "outputs": [
    {
     "data": {
      "text/html": [
       "<style type=\"text/css\">\n",
       "#T_ff31d_row0_col0, #T_ff31d_row0_col1, #T_ff31d_row0_col3, #T_ff31d_row1_col2 {\n",
       "  background-color: #ffff66;\n",
       "  color: #000000;\n",
       "}\n",
       "#T_ff31d_row0_col2, #T_ff31d_row1_col0, #T_ff31d_row1_col1, #T_ff31d_row1_col3 {\n",
       "  background-color: #008066;\n",
       "  color: #f1f1f1;\n",
       "}\n",
       "</style>\n",
       "<table id=\"T_ff31d\">\n",
       "  <thead>\n",
       "    <tr>\n",
       "      <th class=\"index_name level0\" >Title2</th>\n",
       "      <th id=\"T_ff31d_level0_col0\" class=\"col_heading level0 col0\" >Master</th>\n",
       "      <th id=\"T_ff31d_level0_col1\" class=\"col_heading level0 col1\" >Miss</th>\n",
       "      <th id=\"T_ff31d_level0_col2\" class=\"col_heading level0 col2\" >Mr</th>\n",
       "      <th id=\"T_ff31d_level0_col3\" class=\"col_heading level0 col3\" >Mrs</th>\n",
       "    </tr>\n",
       "    <tr>\n",
       "      <th class=\"index_name level0\" >Survived</th>\n",
       "      <th class=\"blank col0\" >&nbsp;</th>\n",
       "      <th class=\"blank col1\" >&nbsp;</th>\n",
       "      <th class=\"blank col2\" >&nbsp;</th>\n",
       "      <th class=\"blank col3\" >&nbsp;</th>\n",
       "    </tr>\n",
       "  </thead>\n",
       "  <tbody>\n",
       "    <tr>\n",
       "      <th id=\"T_ff31d_level0_row0\" class=\"row_heading level0 row0\" >0.000000</th>\n",
       "      <td id=\"T_ff31d_row0_col0\" class=\"data row0 col0\" >17</td>\n",
       "      <td id=\"T_ff31d_row0_col1\" class=\"data row0 col1\" >55</td>\n",
       "      <td id=\"T_ff31d_row0_col2\" class=\"data row0 col2\" >451</td>\n",
       "      <td id=\"T_ff31d_row0_col3\" class=\"data row0 col3\" >26</td>\n",
       "    </tr>\n",
       "    <tr>\n",
       "      <th id=\"T_ff31d_level0_row1\" class=\"row_heading level0 row1\" >1.000000</th>\n",
       "      <td id=\"T_ff31d_row1_col0\" class=\"data row1 col0\" >23</td>\n",
       "      <td id=\"T_ff31d_row1_col1\" class=\"data row1 col1\" >130</td>\n",
       "      <td id=\"T_ff31d_row1_col2\" class=\"data row1 col2\" >88</td>\n",
       "      <td id=\"T_ff31d_row1_col3\" class=\"data row1 col3\" >101</td>\n",
       "    </tr>\n",
       "  </tbody>\n",
       "</table>\n"
      ],
      "text/plain": [
       "<pandas.io.formats.style.Styler at 0x7fdb23a5b0d0>"
      ]
     },
     "execution_count": 188,
     "metadata": {},
     "output_type": "execute_result"
    }
   ],
   "source": [
    "pd.crosstab(data[\"Title2\"], data[\"Survived\"]\n",
    "            ).T.style.background_gradient(cmap=\"summer_r\")"
   ]
  },
  {
   "cell_type": "code",
   "execution_count": 189,
   "metadata": {},
   "outputs": [
    {
     "data": {
      "text/plain": [
       "array(['A5', 'PC', 'STONO2', 'X', 'PP', 'CA', 'SCParis', 'SCA4', 'A4',\n",
       "       'SP', 'SOC', 'WC', 'SOTONOQ', 'WEP', 'STONO', 'C', 'SCPARIS',\n",
       "       'SOP', 'Fa', 'LINE', 'FCC', 'SWPP', 'SCOW', 'PPP', 'SC', 'SCAH',\n",
       "       'AS', 'SOPP', 'FC', 'SOTONO2', 'CASOTON', 'SCA3', 'STONOQ', 'AQ4',\n",
       "       'A', 'LP', 'AQ3'], dtype=object)"
      ]
     },
     "execution_count": 189,
     "metadata": {},
     "output_type": "execute_result"
    }
   ],
   "source": [
    "data['Ticket_info'] = data['Ticket'].apply(lambda x: x.replace(\n",
    "    \".\", \"\").replace(\"/\", \"\").strip().split(' ')[0] if not x.isdigit() else 'X')\n",
    "\n",
    "\n",
    "data[\"Ticket_info\"].unique()"
   ]
  },
  {
   "cell_type": "markdown",
   "metadata": {},
   "source": [
    "## **Fill null value**\n"
   ]
  },
  {
   "cell_type": "code",
   "execution_count": 190,
   "metadata": {},
   "outputs": [
    {
     "data": {
      "text/html": [
       "<div>\n",
       "<style scoped>\n",
       "    .dataframe tbody tr th:only-of-type {\n",
       "        vertical-align: middle;\n",
       "    }\n",
       "\n",
       "    .dataframe tbody tr th {\n",
       "        vertical-align: top;\n",
       "    }\n",
       "\n",
       "    .dataframe thead th {\n",
       "        text-align: right;\n",
       "    }\n",
       "</style>\n",
       "<table border=\"1\" class=\"dataframe\">\n",
       "  <thead>\n",
       "    <tr style=\"text-align: right;\">\n",
       "      <th></th>\n",
       "      <th>PassengerId</th>\n",
       "      <th>Survived</th>\n",
       "      <th>Pclass</th>\n",
       "      <th>Name</th>\n",
       "      <th>Sex</th>\n",
       "      <th>Age</th>\n",
       "      <th>SibSp</th>\n",
       "      <th>Parch</th>\n",
       "      <th>Ticket</th>\n",
       "      <th>Fare</th>\n",
       "      <th>Cabin</th>\n",
       "      <th>Embarked</th>\n",
       "      <th>Family_Size</th>\n",
       "      <th>Title1</th>\n",
       "      <th>Title2</th>\n",
       "      <th>Ticket_info</th>\n",
       "    </tr>\n",
       "  </thead>\n",
       "  <tbody>\n",
       "    <tr>\n",
       "      <th>0</th>\n",
       "      <td>1</td>\n",
       "      <td>0.0</td>\n",
       "      <td>3</td>\n",
       "      <td>Braund, Mr. Owen Harris</td>\n",
       "      <td>male</td>\n",
       "      <td>22.0</td>\n",
       "      <td>1</td>\n",
       "      <td>0</td>\n",
       "      <td>A/5 21171</td>\n",
       "      <td>7.2500</td>\n",
       "      <td>NoCabin</td>\n",
       "      <td>S</td>\n",
       "      <td>1</td>\n",
       "      <td>Mr</td>\n",
       "      <td>Mr</td>\n",
       "      <td>A5</td>\n",
       "    </tr>\n",
       "    <tr>\n",
       "      <th>1</th>\n",
       "      <td>2</td>\n",
       "      <td>1.0</td>\n",
       "      <td>1</td>\n",
       "      <td>Cumings, Mrs. John Bradley (Florence Briggs Th...</td>\n",
       "      <td>female</td>\n",
       "      <td>38.0</td>\n",
       "      <td>1</td>\n",
       "      <td>0</td>\n",
       "      <td>PC 17599</td>\n",
       "      <td>71.2833</td>\n",
       "      <td>C</td>\n",
       "      <td>C</td>\n",
       "      <td>1</td>\n",
       "      <td>Mrs</td>\n",
       "      <td>Mrs</td>\n",
       "      <td>PC</td>\n",
       "    </tr>\n",
       "    <tr>\n",
       "      <th>2</th>\n",
       "      <td>3</td>\n",
       "      <td>1.0</td>\n",
       "      <td>3</td>\n",
       "      <td>Heikkinen, Miss. Laina</td>\n",
       "      <td>female</td>\n",
       "      <td>26.0</td>\n",
       "      <td>0</td>\n",
       "      <td>0</td>\n",
       "      <td>STON/O2. 3101282</td>\n",
       "      <td>7.9250</td>\n",
       "      <td>NoCabin</td>\n",
       "      <td>S</td>\n",
       "      <td>0</td>\n",
       "      <td>Miss</td>\n",
       "      <td>Miss</td>\n",
       "      <td>STONO2</td>\n",
       "    </tr>\n",
       "    <tr>\n",
       "      <th>3</th>\n",
       "      <td>4</td>\n",
       "      <td>1.0</td>\n",
       "      <td>1</td>\n",
       "      <td>Futrelle, Mrs. Jacques Heath (Lily May Peel)</td>\n",
       "      <td>female</td>\n",
       "      <td>35.0</td>\n",
       "      <td>1</td>\n",
       "      <td>0</td>\n",
       "      <td>113803</td>\n",
       "      <td>53.1000</td>\n",
       "      <td>C</td>\n",
       "      <td>S</td>\n",
       "      <td>1</td>\n",
       "      <td>Mrs</td>\n",
       "      <td>Mrs</td>\n",
       "      <td>X</td>\n",
       "    </tr>\n",
       "    <tr>\n",
       "      <th>4</th>\n",
       "      <td>5</td>\n",
       "      <td>0.0</td>\n",
       "      <td>3</td>\n",
       "      <td>Allen, Mr. William Henry</td>\n",
       "      <td>male</td>\n",
       "      <td>35.0</td>\n",
       "      <td>0</td>\n",
       "      <td>0</td>\n",
       "      <td>373450</td>\n",
       "      <td>8.0500</td>\n",
       "      <td>NoCabin</td>\n",
       "      <td>S</td>\n",
       "      <td>0</td>\n",
       "      <td>Mr</td>\n",
       "      <td>Mr</td>\n",
       "      <td>X</td>\n",
       "    </tr>\n",
       "  </tbody>\n",
       "</table>\n",
       "</div>"
      ],
      "text/plain": [
       "   PassengerId  Survived  Pclass  \\\n",
       "0            1       0.0       3   \n",
       "1            2       1.0       1   \n",
       "2            3       1.0       3   \n",
       "3            4       1.0       1   \n",
       "4            5       0.0       3   \n",
       "\n",
       "                                                Name     Sex   Age  SibSp  \\\n",
       "0                            Braund, Mr. Owen Harris    male  22.0      1   \n",
       "1  Cumings, Mrs. John Bradley (Florence Briggs Th...  female  38.0      1   \n",
       "2                             Heikkinen, Miss. Laina  female  26.0      0   \n",
       "3       Futrelle, Mrs. Jacques Heath (Lily May Peel)  female  35.0      1   \n",
       "4                           Allen, Mr. William Henry    male  35.0      0   \n",
       "\n",
       "   Parch            Ticket     Fare    Cabin Embarked  Family_Size Title1  \\\n",
       "0      0         A/5 21171   7.2500  NoCabin        S            1     Mr   \n",
       "1      0          PC 17599  71.2833        C        C            1    Mrs   \n",
       "2      0  STON/O2. 3101282   7.9250  NoCabin        S            0   Miss   \n",
       "3      0            113803  53.1000        C        S            1    Mrs   \n",
       "4      0            373450   8.0500  NoCabin        S            0     Mr   \n",
       "\n",
       "  Title2 Ticket_info  \n",
       "0     Mr          A5  \n",
       "1    Mrs          PC  \n",
       "2   Miss      STONO2  \n",
       "3    Mrs           X  \n",
       "4     Mr           X  "
      ]
     },
     "execution_count": 190,
     "metadata": {},
     "output_type": "execute_result"
    },
    {
     "data": {
      "image/png": "[encoded data removed]",
      "text/plain": [
       "<Figure size 640x480 with 1 Axes>"
      ]
     },
     "metadata": {},
     "output_type": "display_data"
    }
   ],
   "source": [
    "data['Embarked'] = data['Embarked'].fillna(\"S\")\n",
    "data['Fare'] = data['Fare'].fillna(data['Fare'].mean())\n",
    "data['Cabin'] = data['Cabin'].apply(\n",
    "    lambda x: str(x)[0] if not pd.isnull(x) else 'NoCabin')\n",
    "sns.countplot(x='Cabin', hue='Survived', data=data)\n",
    "data.head()"
   ]
  },
  {
   "cell_type": "code",
   "execution_count": 191,
   "metadata": {},
   "outputs": [
    {
     "name": "stdout",
     "output_type": "stream",
     "text": [
      "<class 'pandas.core.frame.DataFrame'>\n",
      "RangeIndex: 1309 entries, 0 to 1308\n",
      "Data columns (total 16 columns):\n",
      " #   Column       Non-Null Count  Dtype  \n",
      "---  ------       --------------  -----  \n",
      " 0   PassengerId  1309 non-null   int64  \n",
      " 1   Survived     891 non-null    float64\n",
      " 2   Pclass       1309 non-null   int8   \n",
      " 3   Name         1309 non-null   object \n",
      " 4   Sex          1309 non-null   int8   \n",
      " 5   Age          1046 non-null   float64\n",
      " 6   SibSp        1309 non-null   int64  \n",
      " 7   Parch        1309 non-null   int64  \n",
      " 8   Ticket       1309 non-null   object \n",
      " 9   Fare         1309 non-null   float64\n",
      " 10  Cabin        1309 non-null   int8   \n",
      " 11  Embarked     1309 non-null   int8   \n",
      " 12  Family_Size  1309 non-null   int64  \n",
      " 13  Title1       1309 non-null   int8   \n",
      " 14  Title2       1309 non-null   int8   \n",
      " 15  Ticket_info  1309 non-null   int8   \n",
      "dtypes: float64(3), int64(4), int8(7), object(2)\n",
      "memory usage: 101.1+ KB\n"
     ]
    }
   ],
   "source": [
    "data['Sex'] = data['Sex'].astype('category').cat.codes\n",
    "data['Embarked'] = data['Embarked'].astype('category').cat.codes\n",
    "data['Pclass'] = data['Pclass'].astype('category').cat.codes\n",
    "data['Title1'] = data['Title1'].astype('category').cat.codes\n",
    "data['Title2'] = data['Title2'].astype('category').cat.codes\n",
    "data['Cabin'] = data['Cabin'].astype('category').cat.codes\n",
    "data['Ticket_info'] = data['Ticket_info'].astype('category').cat.codes\n",
    "data.info()"
   ]
  },
  {
   "cell_type": "code",
   "execution_count": 192,
   "metadata": {},
   "outputs": [
    {
     "name": "stderr",
     "output_type": "stream",
     "text": [
      "/var/folders/xy/_w9xgnh50vx3yskdhjmwlzy40000gn/T/ipykernel_95302/1346844122.py:28: SettingWithCopyWarning: \n",
      "A value is trying to be set on a copy of a slice from a DataFrame.\n",
      "Try using .loc[row_indexer,col_indexer] = value instead\n",
      "\n",
      "See the caveats in the documentation: https://pandas.pydata.org/pandas-docs/stable/user_guide/indexing.html#returning-a-view-versus-a-copy\n",
      "  dataAgeNull.loc[:, \"Age\"] = ageNullValues\n",
      "/var/folders/xy/_w9xgnh50vx3yskdhjmwlzy40000gn/T/ipykernel_95302/1346844122.py:31: FutureWarning: The frame.append method is deprecated and will be removed from pandas in a future version. Use pandas.concat instead.\n",
      "  data = dataAgeNull.append(dataAgeNotNull)\n"
     ]
    }
   ],
   "source": [
    "# 從數據集中選擇所有年齡（Age）為空的行\n",
    "dataAgeNull = data[data[\"Age\"].isnull()]\n",
    "\n",
    "# 從數據集中選擇所有年齡（Age）不為空的行\n",
    "dataAgeNotNull = data[data[\"Age\"].notnull()]\n",
    "\n",
    "# 刪除異常值：選擇票價（Fare）和家庭大小（Family_Size）超過平均值的四倍標準差的行\n",
    "remove_outlier = dataAgeNotNull[\n",
    "    (np.abs(dataAgeNotNull[\"Fare\"] - dataAgeNotNull[\"Fare\"].mean()) > (4 * dataAgeNotNull[\"Fare\"].std())) |\n",
    "    (np.abs(dataAgeNotNull[\"Family_Size\"] - dataAgeNotNull[\"Family_Size\"].mean())\n",
    "     > (4 * dataAgeNotNull[\"Family_Size\"].std()))\n",
    "]\n",
    "\n",
    "# 創建隨機森林回歸模型，使用2000棵樹，隨機種子為42\n",
    "rfModel_age = RandomForestRegressor(n_estimators=2000, random_state=42)\n",
    "\n",
    "# 選擇特徵列，這些特徵將用於預測年齡\n",
    "ageColumns = ['Embarked', 'Fare', 'Pclass', 'Sex',\n",
    "              'Family_Size', 'Title1', 'Title2', 'Cabin', 'Ticket_info']\n",
    "\n",
    "# 使用非異常值行的數據訓練隨機森林模型，預測年齡\n",
    "rfModel_age.fit(remove_outlier[ageColumns], remove_outlier[\"Age\"])\n",
    "\n",
    "# 使用隨機森林模型預測年齡缺失值\n",
    "ageNullValues = rfModel_age.predict(X=dataAgeNull[ageColumns])\n",
    "\n",
    "# 將預測的年齡值填充回缺失值的行\n",
    "dataAgeNull.loc[:, \"Age\"] = ageNullValues\n",
    "\n",
    "# 將填充後的有年齡值的行和原始的非缺失年齡行合併\n",
    "data = dataAgeNull.append(dataAgeNotNull)\n",
    "\n",
    "# 重新設置索引，並將舊的索引丟棄\n",
    "data.reset_index(inplace=True, drop=True)"
   ]
  },
  {
   "cell_type": "code",
   "execution_count": 193,
   "metadata": {},
   "outputs": [
    {
     "data": {
      "text/html": [
       "<div>\n",
       "<style scoped>\n",
       "    .dataframe tbody tr th:only-of-type {\n",
       "        vertical-align: middle;\n",
       "    }\n",
       "\n",
       "    .dataframe tbody tr th {\n",
       "        vertical-align: top;\n",
       "    }\n",
       "\n",
       "    .dataframe thead th {\n",
       "        text-align: right;\n",
       "    }\n",
       "</style>\n",
       "<table border=\"1\" class=\"dataframe\">\n",
       "  <thead>\n",
       "    <tr style=\"text-align: right;\">\n",
       "      <th></th>\n",
       "      <th>PassengerId</th>\n",
       "      <th>Survived</th>\n",
       "      <th>Pclass</th>\n",
       "      <th>Name</th>\n",
       "      <th>Sex</th>\n",
       "      <th>Age</th>\n",
       "      <th>SibSp</th>\n",
       "      <th>Parch</th>\n",
       "      <th>Ticket</th>\n",
       "      <th>Fare</th>\n",
       "      <th>Cabin</th>\n",
       "      <th>Embarked</th>\n",
       "      <th>Family_Size</th>\n",
       "      <th>Title1</th>\n",
       "      <th>Title2</th>\n",
       "      <th>Ticket_info</th>\n",
       "    </tr>\n",
       "  </thead>\n",
       "  <tbody>\n",
       "    <tr>\n",
       "      <th>263</th>\n",
       "      <td>1</td>\n",
       "      <td>0.0</td>\n",
       "      <td>2</td>\n",
       "      <td>Braund, Mr. Owen Harris</td>\n",
       "      <td>1</td>\n",
       "      <td>22.0</td>\n",
       "      <td>1</td>\n",
       "      <td>0</td>\n",
       "      <td>A/5 21171</td>\n",
       "      <td>7.2500</td>\n",
       "      <td>7</td>\n",
       "      <td>2</td>\n",
       "      <td>1</td>\n",
       "      <td>12</td>\n",
       "      <td>2</td>\n",
       "      <td>2</td>\n",
       "    </tr>\n",
       "    <tr>\n",
       "      <th>264</th>\n",
       "      <td>2</td>\n",
       "      <td>1.0</td>\n",
       "      <td>0</td>\n",
       "      <td>Cumings, Mrs. John Bradley (Florence Briggs Th...</td>\n",
       "      <td>0</td>\n",
       "      <td>38.0</td>\n",
       "      <td>1</td>\n",
       "      <td>0</td>\n",
       "      <td>PC 17599</td>\n",
       "      <td>71.2833</td>\n",
       "      <td>2</td>\n",
       "      <td>0</td>\n",
       "      <td>1</td>\n",
       "      <td>13</td>\n",
       "      <td>3</td>\n",
       "      <td>14</td>\n",
       "    </tr>\n",
       "    <tr>\n",
       "      <th>265</th>\n",
       "      <td>3</td>\n",
       "      <td>1.0</td>\n",
       "      <td>2</td>\n",
       "      <td>Heikkinen, Miss. Laina</td>\n",
       "      <td>0</td>\n",
       "      <td>26.0</td>\n",
       "      <td>0</td>\n",
       "      <td>0</td>\n",
       "      <td>STON/O2. 3101282</td>\n",
       "      <td>7.9250</td>\n",
       "      <td>7</td>\n",
       "      <td>2</td>\n",
       "      <td>0</td>\n",
       "      <td>9</td>\n",
       "      <td>1</td>\n",
       "      <td>31</td>\n",
       "    </tr>\n",
       "    <tr>\n",
       "      <th>266</th>\n",
       "      <td>4</td>\n",
       "      <td>1.0</td>\n",
       "      <td>0</td>\n",
       "      <td>Futrelle, Mrs. Jacques Heath (Lily May Peel)</td>\n",
       "      <td>0</td>\n",
       "      <td>35.0</td>\n",
       "      <td>1</td>\n",
       "      <td>0</td>\n",
       "      <td>113803</td>\n",
       "      <td>53.1000</td>\n",
       "      <td>2</td>\n",
       "      <td>2</td>\n",
       "      <td>1</td>\n",
       "      <td>13</td>\n",
       "      <td>3</td>\n",
       "      <td>36</td>\n",
       "    </tr>\n",
       "    <tr>\n",
       "      <th>267</th>\n",
       "      <td>5</td>\n",
       "      <td>0.0</td>\n",
       "      <td>2</td>\n",
       "      <td>Allen, Mr. William Henry</td>\n",
       "      <td>1</td>\n",
       "      <td>35.0</td>\n",
       "      <td>0</td>\n",
       "      <td>0</td>\n",
       "      <td>373450</td>\n",
       "      <td>8.0500</td>\n",
       "      <td>7</td>\n",
       "      <td>2</td>\n",
       "      <td>0</td>\n",
       "      <td>12</td>\n",
       "      <td>2</td>\n",
       "      <td>36</td>\n",
       "    </tr>\n",
       "  </tbody>\n",
       "</table>\n",
       "</div>"
      ],
      "text/plain": [
       "     PassengerId  Survived  Pclass  \\\n",
       "263            1       0.0       2   \n",
       "264            2       1.0       0   \n",
       "265            3       1.0       2   \n",
       "266            4       1.0       0   \n",
       "267            5       0.0       2   \n",
       "\n",
       "                                                  Name  Sex   Age  SibSp  \\\n",
       "263                            Braund, Mr. Owen Harris    1  22.0      1   \n",
       "264  Cumings, Mrs. John Bradley (Florence Briggs Th...    0  38.0      1   \n",
       "265                             Heikkinen, Miss. Laina    0  26.0      0   \n",
       "266       Futrelle, Mrs. Jacques Heath (Lily May Peel)    0  35.0      1   \n",
       "267                           Allen, Mr. William Henry    1  35.0      0   \n",
       "\n",
       "     Parch            Ticket     Fare  Cabin  Embarked  Family_Size  Title1  \\\n",
       "263      0         A/5 21171   7.2500      7         2            1      12   \n",
       "264      0          PC 17599  71.2833      2         0            1      13   \n",
       "265      0  STON/O2. 3101282   7.9250      7         2            0       9   \n",
       "266      0            113803  53.1000      2         2            1      13   \n",
       "267      0            373450   8.0500      7         2            0      12   \n",
       "\n",
       "     Title2  Ticket_info  \n",
       "263       2            2  \n",
       "264       3           14  \n",
       "265       1           31  \n",
       "266       3           36  \n",
       "267       2           36  "
      ]
     },
     "execution_count": 193,
     "metadata": {},
     "output_type": "execute_result"
    }
   ],
   "source": [
    "# 從處理後的數據集中選擇生存（Survived）列不為空的行，並按照乘客ID（PassengerId）進行排序\n",
    "dataTrain = data[pd.notnull(data['Survived'])].sort_values(by=[\"PassengerId\"])\n",
    "\n",
    "# 從處理後的數據集中選擇生存（Survived）列為空的行，並按照乘客ID（PassengerId）進行排序\n",
    "dataTest = data[~pd.notnull(data['Survived'])].sort_values(by=[\"PassengerId\"])\n",
    "\n",
    "dataTrain.head()"
   ]
  },
  {
   "cell_type": "code",
   "execution_count": 194,
   "metadata": {},
   "outputs": [],
   "source": [
    "dataTrain = dataTrain[['Survived', 'Age', 'Embarked', 'Fare',\n",
    "                       'Pclass', 'Sex', 'Family_Size', 'Title2', 'Ticket_info', 'Cabin']]\n",
    "dataTest = dataTest[['Age', 'Embarked', 'Fare', 'Pclass',\n",
    "                     'Sex', 'Family_Size', 'Title2', 'Ticket_info', 'Cabin']]"
   ]
  },
  {
   "cell_type": "code",
   "execution_count": 195,
   "metadata": {},
   "outputs": [
    {
     "name": "stdout",
     "output_type": "stream",
     "text": [
      "0.8305\n",
      "      variable  importance\n",
      "4          Sex    0.266825\n",
      "2         Fare    0.163941\n",
      "6       Title2    0.150056\n",
      "0          Age    0.132715\n",
      "3       Pclass    0.090884\n",
      "5  Family_Size    0.071406\n",
      "8        Cabin    0.066996\n",
      "7  Ticket_info    0.031590\n",
      "1     Embarked    0.025586\n"
     ]
    }
   ],
   "source": [
    "# 從 sklearn 中導入隨機森林分類器\n",
    "from sklearn.ensemble import RandomForestClassifier\n",
    "\n",
    "# 創建隨機森林分類器，設置了一些參數\n",
    "rf = RandomForestClassifier(criterion='gini',        # 使用 Gini 不純度來衡量分類效果\n",
    "                            n_estimators=1000,       # 使用1000棵樹\n",
    "                            min_samples_split=12,    # 最小分割樣本數為12\n",
    "                            min_samples_leaf=1,      # 最小葉子樣本數為1\n",
    "                            oob_score=True,          # 啟用 out-of-bag 評估\n",
    "                            random_state=1,          # 隨機種子設置為1，確保可重現性\n",
    "                            n_jobs=-1)               # 使用所有可用核心進行訓練\n",
    "\n",
    "# 使用訓練集進行模型訓練，其中 dataTrain.iloc[:, 1:] 表示特徵部分，dataTrain.iloc[:, 0] 表示目標（Survived）\n",
    "rf.fit(dataTrain.iloc[:, 1:], dataTrain.iloc[:, 0])\n",
    "\n",
    "# 輸出 out-of-bag 評估分數\n",
    "print(\"%.4f\" % rf.oob_score_)\n",
    "\n",
    "# 使用 pd.concat 函式，將特徵名稱和其對應的重要性值合併在一起，形成一個 DataFrame\n",
    "# dataTrain.iloc[:, 1:].columns 是訓練集的特徵名稱\n",
    "# pd.DataFrame(rf.feature_importances_, columns = ['importance']) 是隨機森林模型的特徵重要性值\n",
    "# axis = 1 表示在水平方向上合併 DataFrame\n",
    "merged_data = pd.concat((pd.DataFrame(dataTrain.iloc[:, 1:].columns, columns=['variable']),\n",
    "                         pd.DataFrame(rf.feature_importances_, columns=['importance'])),\n",
    "                        axis=1)\n",
    "\n",
    "# 使用 sort_values 函式，根據重要性值（importance）遞減排序，並選取前 20 個\n",
    "top_20_features = merged_data.sort_values(\n",
    "    by='importance', ascending=False)[:20]\n",
    "\n",
    "# 輸出前 20 個最重要的特徵\n",
    "print(top_20_features)"
   ]
  },
  {
   "cell_type": "code",
   "execution_count": 196,
   "metadata": {},
   "outputs": [
    {
     "ename": "NameError",
     "evalue": "name 'submit' is not defined",
     "output_type": "error",
     "traceback": [
      "\u001b[0;31m---------------------------------------------------------------------------\u001b[0m",
      "\u001b[0;31mNameError\u001b[0m                                 Traceback (most recent call last)",
      "Cell \u001b[0;32mIn[196], line 2\u001b[0m\n\u001b[1;32m      1\u001b[0m rf_res \u001b[39m=\u001b[39m  rf\u001b[39m.\u001b[39mpredict(dataTest)\n\u001b[0;32m----> 2\u001b[0m submit[\u001b[39m'\u001b[39m\u001b[39mSurvived\u001b[39m\u001b[39m'\u001b[39m] \u001b[39m=\u001b[39m rf_res\n\u001b[1;32m      3\u001b[0m submit[\u001b[39m'\u001b[39m\u001b[39mSurvived\u001b[39m\u001b[39m'\u001b[39m] \u001b[39m=\u001b[39m submit[\u001b[39m'\u001b[39m\u001b[39mSurvived\u001b[39m\u001b[39m'\u001b[39m]\u001b[39m.\u001b[39mastype(\u001b[39mint\u001b[39m)\n\u001b[1;32m      4\u001b[0m submit\u001b[39m.\u001b[39mto_csv(\u001b[39m'\u001b[39m\u001b[39msubmit.csv\u001b[39m\u001b[39m'\u001b[39m, index\u001b[39m=\u001b[39m \u001b[39mFalse\u001b[39;00m)\n",
      "\u001b[0;31mNameError\u001b[0m: name 'submit' is not defined"
     ]
    }
   ],
   "source": [
    "rf_res = rf.predict(dataTest)\n",
    "gender_submission['Survived'] = rf_res\n",
    "gender_submission['Survived'] = gender_submission['Survived'].astype(int)\n",
    "gender_submission.to_csv('submit.csv', index=False)"
   ]
  }
 ],
 "metadata": {
  "kernelspec": {
   "display_name": "base",
   "language": "python",
   "name": "python3"
  },
  "language_info": {
   "codemirror_mode": {
    "name": "ipython",
    "version": 3
   },
   "file_extension": ".py",
   "mimetype": "text/x-python",
   "name": "python",
   "nbconvert_exporter": "python",
   "pygments_lexer": "ipython3",
   "version": "3.10.9"
  },
  "orig_nbformat": 4
 },
 "nbformat": 4,
 "nbformat_minor": 2
}
