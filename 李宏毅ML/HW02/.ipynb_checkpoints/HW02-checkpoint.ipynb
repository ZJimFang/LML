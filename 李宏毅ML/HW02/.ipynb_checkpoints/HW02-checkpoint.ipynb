{
 "cells": [
  {
   "cell_type": "markdown",
   "metadata": {
    "id": "OYlaRwNu7ojq"
   },
   "source": [
    "# **Homework 2-1 Phoneme Classification**\n",
    "\n",
    "* Slides: https://speech.ee.ntu.edu.tw/~hylee/ml/ml2021-course-data/hw/HW02/HW02.pdf\n",
    "* Video (Chinese): https://youtu.be/PdjXnQbu2zo\n",
    "* Video (English): https://youtu.be/ESRr-VCykBs\n"
   ]
  },
  {
   "cell_type": "markdown",
   "metadata": {
    "id": "emUd7uS7crTz"
   },
   "source": [
    "## The DARPA TIMIT Acoustic-Phonetic Continuous Speech Corpus (TIMIT)\n",
    "The TIMIT corpus of reading speech has been designed to provide speech data for the acquisition of acoustic-phonetic knowledge and for the development and evaluation of automatic speech recognition systems.\n",
    "\n",
    "This homework is a multiclass classification task,\n",
    "we are going to train a deep neural network classifier to predict the phonemes for each frame from the speech corpus TIMIT.\n",
    "\n",
    "link: https://academictorrents.com/details/34e2b78745138186976cbc27939b1b34d18bd5b3"
   ]
  },
  {
   "cell_type": "markdown",
   "metadata": {
    "id": "KVUGfWTo7_Oj"
   },
   "source": [
    "## Download Data\n",
    "Download data from google drive, then unzip it.\n",
    "\n",
    "You should have `timit_11/train_11.npy`, `timit_11/train_label_11.npy`, and `timit_11/test_11.npy` after running this block.<br><br>\n",
    "`timit_11/`\n",
    "- `train_11.npy`: training data<br>\n",
    "- `train_label_11.npy`: training label<br>\n",
    "- `test_11.npy`:  testing data<br><br>\n",
    "\n",
    "**notes: if the google drive link is dead, you can download the data directly from Kaggle and upload it to the workspace**\n",
    "\n",
    "\n"
   ]
  },
  {
   "cell_type": "code",
   "execution_count": 1,
   "metadata": {
    "colab": {
     "base_uri": "https://localhost:8080/"
    },
    "executionInfo": {
     "elapsed": 44359,
     "status": "ok",
     "timestamp": 1689080105841,
     "user": {
      "displayName": "Jim",
      "userId": "02594580749286020249"
     },
     "user_tz": -480
    },
    "id": "OzkiMEcC3Foq",
    "outputId": "d409567e-d73d-4890-9453-3f59415c993f"
   },
   "outputs": [
    {
     "name": "stdout",
     "output_type": "stream",
     "text": [
      "zsh:1: command not found: gdown\n",
      "unzip:  cannot find or open data.zip, data.zip.zip or data.zip.ZIP.\n",
      "HW02.ipynb \u001b[1m\u001b[36mtimit_11\u001b[m\u001b[m\n"
     ]
    }
   ],
   "source": [
    "!gdown --id '1HPkcmQmFGu-3OknddKIa5dNDsR05lIQR' --output data.zip\n",
    "!unzip data.zip\n",
    "!ls"
   ]
  },
  {
   "cell_type": "markdown",
   "metadata": {
    "id": "_L_4anls8Drv"
   },
   "source": [
    "## Preparing Data\n",
    "Load the training and testing data from the `.npy` file (NumPy array)."
   ]
  },
  {
   "cell_type": "code",
   "execution_count": 2,
   "metadata": {
    "colab": {
     "base_uri": "https://localhost:8080/"
    },
    "executionInfo": {
     "elapsed": 25736,
     "status": "ok",
     "timestamp": 1689082214168,
     "user": {
      "displayName": "Jim",
      "userId": "02594580749286020249"
     },
     "user_tz": -480
    },
    "id": "IJjLT8em-y9G",
    "outputId": "b9b01671-0c73-4e86-f7bf-0289d36e7646"
   },
   "outputs": [
    {
     "name": "stdout",
     "output_type": "stream",
     "text": [
      "Loading data ...\n",
      "Size of training data: (1229932, 429)\n",
      "Size of testing data: (451552, 429)\n"
     ]
    }
   ],
   "source": [
    "import numpy as np\n",
    "\n",
    "print('Loading data ...')\n",
    "\n",
    "data_root='./timit_11/'\n",
    "train = np.load(data_root + 'train_11.npy')\n",
    "train_label = np.load(data_root + 'train_label_11.npy')\n",
    "test = np.load(data_root + 'test_11.npy')\n",
    "\n",
    "print('Size of training data: {}'.format(train.shape))\n",
    "print('Size of testing data: {}'.format(test.shape))"
   ]
  },
  {
   "cell_type": "markdown",
   "metadata": {
    "id": "dT2iOm3ZrzUq"
   },
   "source": [
    "# Data Analysis"
   ]
  },
  {
   "cell_type": "code",
   "execution_count": 3,
   "metadata": {
    "colab": {
     "base_uri": "https://localhost:8080/"
    },
    "executionInfo": {
     "elapsed": 729,
     "status": "ok",
     "timestamp": 1689058325309,
     "user": {
      "displayName": "Jim",
      "userId": "02594580749286020249"
     },
     "user_tz": -480
    },
    "id": "IjnQ8HqDr2wN",
    "outputId": "19c0097a-4e15-4236-aff8-9fa1f2dce6e7",
    "scrolled": true
   },
   "outputs": [
    {
     "name": "stdout",
     "output_type": "stream",
     "text": [
      "Total number 1229932\n",
      "\n",
      "   class   count    rate\n",
      "       0   62708  0.0510\n",
      "       1   83746  0.0681\n",
      "       2   35048  0.0285\n",
      "       3   59031  0.0480\n",
      "       4   38930  0.0317\n",
      "       5   26380  0.0214\n",
      "       6    4038  0.0033\n",
      "       7   73827  0.0600\n",
      "       8   28797  0.0234\n",
      "       9   34289  0.0279\n",
      "      10   11028  0.0090\n",
      "      11   11711  0.0095\n",
      "      12   26790  0.0218\n",
      "      13   43410  0.0353\n",
      "      14   39583  0.0322\n",
      "      15   11342  0.0092\n",
      "      16   20922  0.0170\n",
      "      17   51533  0.0419\n",
      "      18   24938  0.0203\n",
      "      19   47059  0.0383\n",
      "      20    8508  0.0069\n",
      "      21    7083  0.0058\n",
      "      22    7050  0.0057\n",
      "      23   10663  0.0087\n",
      "      24    3883  0.0032\n",
      "      25    8219  0.0067\n",
      "      26    7825  0.0064\n",
      "      27    6059  0.0049\n",
      "      28   11492  0.0093\n",
      "      29   21012  0.0171\n",
      "      30   25094  0.0204\n",
      "      31   31618  0.0257\n",
      "      32   12003  0.0098\n",
      "      33   22907  0.0186\n",
      "      34    6920  0.0056\n",
      "      35   84521  0.0687\n",
      "      36   27088  0.0220\n",
      "      37   14164  0.0115\n",
      "      38  178713  0.1453\n"
     ]
    }
   ],
   "source": [
    "print (\"Total number {:d}\".format(train_label.shape[0]))\n",
    "\n",
    "train_cnt = np.zeros((39),dtype = int)\n",
    "for i in range(39):\n",
    "  train_cnt[i] = np.sum(train_label == str(i))\n",
    "\n",
    "sum = np.sum(train_cnt)\n",
    "print (\"\\n   class   count    rate\")\n",
    "for i in range(39):\n",
    "    print (\"{:8d}\".format(i), end='')\n",
    "    print (\"{:8d}\".format(train_cnt[i]), end='')\n",
    "    print (\"  {:.4f}\".format(train_cnt[i] / sum))\n"
   ]
  },
  {
   "cell_type": "markdown",
   "metadata": {
    "id": "us5XW_x6udZQ"
   },
   "source": [
    "## Create Dataset"
   ]
  },
  {
   "cell_type": "code",
   "execution_count": 4,
   "metadata": {
    "executionInfo": {
     "elapsed": 289,
     "status": "ok",
     "timestamp": 1689082169914,
     "user": {
      "displayName": "Jim",
      "userId": "02594580749286020249"
     },
     "user_tz": -480
    },
    "id": "Fjf5EcmJtf4e"
   },
   "outputs": [],
   "source": [
    "import torch\n",
    "from torch.utils.data import Dataset\n",
    "\n",
    "class TIMITDataset(Dataset):\n",
    "    def __init__(self, X, y=None):\n",
    "        self.data = torch.from_numpy(X).float()\n",
    "        if y is not None:\n",
    "            y = y.astype(np.int)\n",
    "            self.label = torch.LongTensor(y)\n",
    "        else:\n",
    "            self.label = None\n",
    "\n",
    "    def __getitem__(self, idx):\n",
    "        if self.label is not None:\n",
    "            return self.data[idx], self.label[idx]\n",
    "        else:\n",
    "            return self.data[idx]\n",
    "\n",
    "    def __len__(self):\n",
    "        return len(self.data)\n"
   ]
  },
  {
   "cell_type": "markdown",
   "metadata": {
    "id": "otIC6WhGeh9v"
   },
   "source": [
    "# Split data"
   ]
  },
  {
   "cell_type": "code",
   "execution_count": 5,
   "metadata": {
    "colab": {
     "base_uri": "https://localhost:8080/"
    },
    "executionInfo": {
     "elapsed": 6160,
     "status": "ok",
     "timestamp": 1689082053863,
     "user": {
      "displayName": "Jim",
      "userId": "02594580749286020249"
     },
     "user_tz": -480
    },
    "id": "sYqi_lAuvC59",
    "outputId": "fd0873f6-fe32-42aa-fe1a-62fa6780a572"
   },
   "outputs": [
    {
     "name": "stdout",
     "output_type": "stream",
     "text": [
      "Size of training set: (983945, 429)\n",
      "Size of validation set: (245987, 429)\n"
     ]
    }
   ],
   "source": [
    "from sklearn.model_selection import train_test_split\n",
    "\n",
    "VAL_RATIO = 0.2\n",
    "\n",
    "train_indices, valid_indices = train_test_split([i for i in range(train.shape[0])], test_size=VAL_RATIO, random_state=1)\n",
    "train_x = train[train_indices, :]\n",
    "train_y = train_label[train_indices]\n",
    "val_x = train[valid_indices, :]\n",
    "val_y = train_label[valid_indices]\n",
    "\n",
    "print('Size of training set: {}'.format(train_x.shape))\n",
    "print('Size of validation set: {}'.format(val_x.shape))"
   ]
  },
  {
   "cell_type": "markdown",
   "metadata": {
    "id": "nbCfclUIgMTX"
   },
   "source": [
    "Create a data loader from the dataset, feel free to tweak the variable `BATCH_SIZE` here."
   ]
  },
  {
   "cell_type": "code",
   "execution_count": 6,
   "metadata": {
    "colab": {
     "base_uri": "https://localhost:8080/",
     "height": 244
    },
    "executionInfo": {
     "elapsed": 307,
     "status": "error",
     "timestamp": 1689082176931,
     "user": {
      "displayName": "Jim",
      "userId": "02594580749286020249"
     },
     "user_tz": -480
    },
    "id": "RUCbQvqJurYc",
    "outputId": "73e23964-eb4a-489a-a14e-d77cf1068ae6"
   },
   "outputs": [
    {
     "name": "stderr",
     "output_type": "stream",
     "text": [
      "/var/folders/xy/_w9xgnh50vx3yskdhjmwlzy40000gn/T/ipykernel_52090/348484277.py:8: DeprecationWarning: `np.int` is a deprecated alias for the builtin `int`. To silence this warning, use `int` by itself. Doing this will not modify any behavior and is safe. When replacing `np.int`, you may wish to use e.g. `np.int64` or `np.int32` to specify the precision. If you wish to review your current use, check the release note link for additional information.\n",
      "Deprecated in NumPy 1.20; for more details and guidance: https://numpy.org/devdocs/release/1.20.0-notes.html#deprecations\n",
      "  y = y.astype(np.int)\n"
     ]
    }
   ],
   "source": [
    "BATCH_SIZE = 64\n",
    "\n",
    "from torch.utils.data import DataLoader\n",
    "\n",
    "train_set = TIMITDataset(train_x, train_y)\n",
    "val_set = TIMITDataset(val_x, val_y)\n",
    "train_loader = DataLoader(train_set, batch_size=BATCH_SIZE, shuffle=True) #only shuffle the training data\n",
    "val_loader = DataLoader(val_set, batch_size=BATCH_SIZE, shuffle=False)"
   ]
  },
  {
   "cell_type": "markdown",
   "metadata": {
    "id": "_SY7X0lUgb50"
   },
   "source": [
    "Cleanup the unneeded variables to save memory.<br>\n",
    "\n",
    "**notes: if you need to use these variables later, then you may remove this block or clean up unneeded variables later<br>the data size is quite huge, so be aware of memory usage in colab**"
   ]
  },
  {
   "cell_type": "code",
   "execution_count": 7,
   "metadata": {
    "colab": {
     "base_uri": "https://localhost:8080/"
    },
    "executionInfo": {
     "elapsed": 421,
     "status": "ok",
     "timestamp": 1689080582197,
     "user": {
      "displayName": "Jim",
      "userId": "02594580749286020249"
     },
     "user_tz": -480
    },
    "id": "y8rzkGraeYeN",
    "outputId": "9750673f-1748-4e75-93da-ccf8d8ddec82"
   },
   "outputs": [
    {
     "data": {
      "text/plain": [
       "0"
      ]
     },
     "execution_count": 7,
     "metadata": {},
     "output_type": "execute_result"
    }
   ],
   "source": [
    "import gc\n",
    "\n",
    "del train, train_label, train_x, train_y, val_x, val_y\n",
    "gc.collect()"
   ]
  },
  {
   "cell_type": "markdown",
   "metadata": {
    "id": "IRqKNvNZwe3V"
   },
   "source": [
    "## Create Model"
   ]
  },
  {
   "cell_type": "markdown",
   "metadata": {
    "id": "FYr1ng5fh9pA"
   },
   "source": [
    "Define model architecture, you are encouraged to change and experiment with the model architecture."
   ]
  },
  {
   "cell_type": "code",
   "execution_count": 8,
   "metadata": {
    "executionInfo": {
     "elapsed": 295,
     "status": "ok",
     "timestamp": 1689080587315,
     "user": {
      "displayName": "Jim",
      "userId": "02594580749286020249"
     },
     "user_tz": -480
    },
    "id": "lbZrwT6Ny0XL"
   },
   "outputs": [],
   "source": [
    "import torch\n",
    "import torch.nn as nn\n",
    "\n",
    "class Classifier(nn.Module):\n",
    "    def __init__(self):\n",
    "        super(Classifier, self).__init__()\n",
    "        self.layer1 = nn.Linear(429, 1024)\n",
    "        self.layer2 = nn.Linear(1024, 512)\n",
    "        self.layer3 = nn.Linear(512, 128)\n",
    "        self.out = nn.Linear(128, 39)\n",
    "\n",
    "        self.act_fn = nn.Sigmoid()\n",
    "\n",
    "    def forward(self, x):\n",
    "        x = self.layer1(x)\n",
    "        x = self.act_fn(x)\n",
    "\n",
    "        x = self.layer2(x)\n",
    "        x = self.act_fn(x)\n",
    "\n",
    "        x = self.layer3(x)\n",
    "        x = self.act_fn(x)\n",
    "\n",
    "        x = self.out(x)\n",
    "\n",
    "        return x"
   ]
  },
  {
   "cell_type": "markdown",
   "metadata": {
    "id": "VRYciXZvPbYh"
   },
   "source": [
    "## Training"
   ]
  },
  {
   "cell_type": "code",
   "execution_count": 9,
   "metadata": {
    "executionInfo": {
     "elapsed": 273,
     "status": "ok",
     "timestamp": 1689080594061,
     "user": {
      "displayName": "Jim",
      "userId": "02594580749286020249"
     },
     "user_tz": -480
    },
    "id": "y114Vmm3Ja6o"
   },
   "outputs": [],
   "source": [
    "#check device\n",
    "def get_device():\n",
    "  return 'cuda' if torch.cuda.is_available() else 'cpu'"
   ]
  },
  {
   "cell_type": "markdown",
   "metadata": {
    "id": "sEX-yjHjhGuH"
   },
   "source": [
    "Fix random seeds for reproducibility."
   ]
  },
  {
   "cell_type": "code",
   "execution_count": 10,
   "metadata": {
    "executionInfo": {
     "elapsed": 273,
     "status": "ok",
     "timestamp": 1689080597215,
     "user": {
      "displayName": "Jim",
      "userId": "02594580749286020249"
     },
     "user_tz": -480
    },
    "id": "88xPiUnm0tAd"
   },
   "outputs": [],
   "source": [
    "# fix random seed\n",
    "def same_seeds(seed):\n",
    "    torch.manual_seed(seed)\n",
    "    if torch.cuda.is_available():\n",
    "        torch.cuda.manual_seed(seed)\n",
    "        torch.cuda.manual_seed_all(seed)\n",
    "    np.random.seed(seed)\n",
    "    torch.backends.cudnn.benchmark = False\n",
    "    torch.backends.cudnn.deterministic = True"
   ]
  },
  {
   "cell_type": "markdown",
   "metadata": {
    "id": "KbBcBXkSp6RA"
   },
   "source": [
    "Feel free to change the training parameters here."
   ]
  },
  {
   "cell_type": "code",
   "execution_count": 11,
   "metadata": {
    "colab": {
     "base_uri": "https://localhost:8080/"
    },
    "executionInfo": {
     "elapsed": 5551,
     "status": "ok",
     "timestamp": 1689080605154,
     "user": {
      "displayName": "Jim",
      "userId": "02594580749286020249"
     },
     "user_tz": -480
    },
    "id": "QTp3ZXg1yO9Y",
    "outputId": "fda807fe-5918-45b8-c92b-06cfd0d24021"
   },
   "outputs": [
    {
     "name": "stdout",
     "output_type": "stream",
     "text": [
      "DEVICE: cpu\n"
     ]
    }
   ],
   "source": [
    "# fix random seed for reproducibility\n",
    "same_seeds(0)\n",
    "\n",
    "# get device\n",
    "device = get_device()\n",
    "print(f'DEVICE: {device}')\n",
    "\n",
    "# training parameters\n",
    "num_epoch = 1              # number of training epoch\n",
    "learning_rate = 0.0001       # learning rate\n",
    "\n",
    "# the path where checkpoint saved\n",
    "model_path = './model.ckpt'\n",
    "\n",
    "# create model, define a loss function, and optimizer\n",
    "model = Classifier().to(device)\n",
    "criterion = nn.CrossEntropyLoss()#include softmax\n",
    "optimizer = torch.optim.Adam(model.parameters(), lr=learning_rate)"
   ]
  },
  {
   "cell_type": "code",
   "execution_count": null,
   "metadata": {
    "colab": {
     "base_uri": "https://localhost:8080/"
    },
    "executionInfo": {
     "elapsed": 44892,
     "status": "ok",
     "timestamp": 1689080651437,
     "user": {
      "displayName": "Jim",
      "userId": "02594580749286020249"
     },
     "user_tz": -480
    },
    "id": "CdMWsBs7zzNs",
    "outputId": "80d44340-4ba9-4fc5-cdd9-c27d37e207cd"
   },
   "outputs": [],
   "source": [
    "# start training\n",
    "\n",
    "best_acc = 0.0\n",
    "for epoch in range(num_epoch):\n",
    "    train_acc = 0.0\n",
    "    train_loss = 0.0\n",
    "    val_acc = 0.0\n",
    "    val_loss = 0.0\n",
    "\n",
    "    # training\n",
    "    model.train() # set the model to training mode\n",
    "    for i, data in enumerate(train_loader):\n",
    "        inputs, labels = data\n",
    "        inputs, labels = inputs.to(device), labels.to(device)\n",
    "        optimizer.zero_grad()\n",
    "        outputs = model(inputs)\n",
    "        batch_loss = criterion(outputs, labels)\n",
    "        _, train_pred = torch.max(outputs, 1) # get the index of the class with the highest probability\n",
    "        batch_loss.backward()\n",
    "        optimizer.step()\n",
    "\n",
    "        train_acc += (train_pred.cpu() == labels.cpu()).sum().item()\n",
    "        train_loss += batch_loss.item()\n",
    "\n",
    "    # validation\n",
    "    if len(val_set) > 0:\n",
    "        model.eval() # set the model to evaluation mode\n",
    "        with torch.no_grad():\n",
    "            for i, data in enumerate(val_loader):\n",
    "                inputs, labels = data\n",
    "                inputs, labels = inputs.to(device), labels.to(device)\n",
    "                outputs = model(inputs)\n",
    "                batch_loss = criterion(outputs, labels)\n",
    "                _, val_pred = torch.max(outputs, 1)\n",
    "\n",
    "                val_acc += (val_pred.cpu() == labels.cpu()).sum().item() # get the index of the class with the highest probability\n",
    "                val_loss += batch_loss.item()\n",
    "\n",
    "            print('[{:03d}/{:03d}] Train Acc: {:3.6f} Loss: {:3.6f} | Val Acc: {:3.6f} loss: {:3.6f}'.format(\n",
    "                epoch + 1, num_epoch, train_acc/len(train_set), train_loss/len(train_loader), val_acc/len(val_set), val_loss/len(val_loader)\n",
    "            ))\n",
    "\n",
    "            # if the model improves, save a checkpoint at this epoch\n",
    "            if val_acc > best_acc:\n",
    "                best_acc = val_acc\n",
    "                torch.save(model.state_dict(), model_path)\n",
    "                print('saving model with acc {:.3f}'.format(best_acc/len(val_set)))\n",
    "    else:\n",
    "        print('[{:03d}/{:03d}] Train Acc: {:3.6f} Loss: {:3.6f}'.format(\n",
    "            epoch + 1, num_epoch, train_acc/len(train_set), train_loss/len(train_loader)\n",
    "        ))\n",
    "\n",
    "# if not validating, save the last epoch\n",
    "if len(val_set) == 0:\n",
    "    torch.save(model.state_dict(), model_path)\n",
    "    print('saving model at last epoch')\n"
   ]
  },
  {
   "cell_type": "markdown",
   "metadata": {
    "id": "1Hi7jTn3PX-m"
   },
   "source": [
    "## Testing"
   ]
  },
  {
   "cell_type": "markdown",
   "metadata": {
    "id": "NfUECMFCn5VG"
   },
   "source": [
    "Create a testing dataset, and load model from the saved checkpoint."
   ]
  },
  {
   "cell_type": "code",
   "execution_count": null,
   "metadata": {
    "colab": {
     "base_uri": "https://localhost:8080/"
    },
    "executionInfo": {
     "elapsed": 639,
     "status": "ok",
     "timestamp": 1689080708077,
     "user": {
      "displayName": "Jim",
      "userId": "02594580749286020249"
     },
     "user_tz": -480
    },
    "id": "1PKjtAScPWtr",
    "outputId": "b95d7349-3a7b-4e9c-8570-c78cf8f4d948"
   },
   "outputs": [],
   "source": [
    "# create testing dataset\n",
    "test_set = TIMITDataset(test, None)\n",
    "test_loader = DataLoader(test_set, batch_size=BATCH_SIZE, shuffle=False)\n",
    "\n",
    "# create model and load weights from checkpoint\n",
    "model = Classifier().to(device)\n",
    "model.load_state_dict(torch.load(model_path))"
   ]
  },
  {
   "cell_type": "markdown",
   "metadata": {
    "id": "940TtCCdoYd0"
   },
   "source": [
    "Make prediction."
   ]
  },
  {
   "cell_type": "code",
   "execution_count": null,
   "metadata": {
    "executionInfo": {
     "elapsed": 5127,
     "status": "ok",
     "timestamp": 1689080716460,
     "user": {
      "displayName": "Jim",
      "userId": "02594580749286020249"
     },
     "user_tz": -480
    },
    "id": "84HU5GGjPqR0"
   },
   "outputs": [],
   "source": [
    "predict = []\n",
    "model.eval() # set the model to evaluation mode\n",
    "with torch.no_grad():\n",
    "    for i, data in enumerate(test_loader):\n",
    "        inputs = data\n",
    "        inputs = inputs.to(device)\n",
    "        outputs = model(inputs)\n",
    "        _, test_pred = torch.max(outputs, 1) # get the index of the class with the highest probability\n",
    "\n",
    "        for y in test_pred.cpu().numpy():\n",
    "            predict.append(y)"
   ]
  },
  {
   "cell_type": "markdown",
   "metadata": {
    "id": "AWDf_C-omElb"
   },
   "source": [
    "Write prediction to a CSV file.\n",
    "\n",
    "After finish running this block, download the file `prediction.csv` from the files section on the left-hand side and submit it to Kaggle."
   ]
  },
  {
   "cell_type": "code",
   "execution_count": null,
   "metadata": {
    "executionInfo": {
     "elapsed": 275,
     "status": "ok",
     "timestamp": 1689080719236,
     "user": {
      "displayName": "Jim",
      "userId": "02594580749286020249"
     },
     "user_tz": -480
    },
    "id": "GuljYSPHcZir"
   },
   "outputs": [],
   "source": [
    "with open('prediction.csv', 'w') as f:\n",
    "    f.write('Id,Class\\n')\n",
    "    for i, y in enumerate(predict):\n",
    "        f.write('{},{}\\n'.format(i, y))"
   ]
  }
 ],
 "metadata": {
  "accelerator": "GPU",
  "colab": {
   "gpuType": "T4",
   "provenance": [
    {
     "file_id": "https://github.com/ga642381/ML2021-Spring/blob/main/HW02/HW02-1.ipynb",
     "timestamp": 1688790628199
    }
   ]
  },
  "kernelspec": {
   "display_name": "Python 3 (ipykernel)",
   "language": "python",
   "name": "python3"
  },
  "language_info": {
   "codemirror_mode": {
    "name": "ipython",
    "version": 3
   },
   "file_extension": ".py",
   "mimetype": "text/x-python",
   "name": "python",
   "nbconvert_exporter": "python",
   "pygments_lexer": "ipython3",
   "version": "3.10.9"
  }
 },
 "nbformat": 4,
 "nbformat_minor": 1
}
